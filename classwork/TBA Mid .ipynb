{
 "cells": [
  {
   "cell_type": "markdown",
   "id": "18acadc8",
   "metadata": {},
   "source": [
    "### Reading CSV file "
   ]
  },
  {
   "cell_type": "code",
   "execution_count": 105,
   "id": "8bf414b1",
   "metadata": {},
   "outputs": [
    {
     "data": {
      "text/html": [
       "<div>\n",
       "<style scoped>\n",
       "    .dataframe tbody tr th:only-of-type {\n",
       "        vertical-align: middle;\n",
       "    }\n",
       "\n",
       "    .dataframe tbody tr th {\n",
       "        vertical-align: top;\n",
       "    }\n",
       "\n",
       "    .dataframe thead th {\n",
       "        text-align: right;\n",
       "    }\n",
       "</style>\n",
       "<table border=\"1\" class=\"dataframe\">\n",
       "  <thead>\n",
       "    <tr style=\"text-align: right;\">\n",
       "      <th></th>\n",
       "      <th>Unnamed: 0</th>\n",
       "      <th>text</th>\n",
       "      <th>Emotion</th>\n",
       "    </tr>\n",
       "  </thead>\n",
       "  <tbody>\n",
       "    <tr>\n",
       "      <th>0</th>\n",
       "      <td>0</td>\n",
       "      <td>i seriously hate one subject to death but now ...</td>\n",
       "      <td>hate</td>\n",
       "    </tr>\n",
       "    <tr>\n",
       "      <th>1</th>\n",
       "      <td>1</td>\n",
       "      <td>im so full of life i feel appalled</td>\n",
       "      <td>neutral</td>\n",
       "    </tr>\n",
       "    <tr>\n",
       "      <th>2</th>\n",
       "      <td>2</td>\n",
       "      <td>i sit here to write i start to dig out my feel...</td>\n",
       "      <td>neutral</td>\n",
       "    </tr>\n",
       "    <tr>\n",
       "      <th>3</th>\n",
       "      <td>3</td>\n",
       "      <td>ive been really angry with r and i feel like a...</td>\n",
       "      <td>anger</td>\n",
       "    </tr>\n",
       "    <tr>\n",
       "      <th>4</th>\n",
       "      <td>4</td>\n",
       "      <td>i feel suspicious if there is no one outside l...</td>\n",
       "      <td>neutral</td>\n",
       "    </tr>\n",
       "    <tr>\n",
       "      <th>5</th>\n",
       "      <td>5</td>\n",
       "      <td>i feel jealous becasue i wanted that kind of l...</td>\n",
       "      <td>love</td>\n",
       "    </tr>\n",
       "    <tr>\n",
       "      <th>6</th>\n",
       "      <td>6</td>\n",
       "      <td>when a friend of mine keeps telling me morbid ...</td>\n",
       "      <td>neutral</td>\n",
       "    </tr>\n",
       "    <tr>\n",
       "      <th>7</th>\n",
       "      <td>7</td>\n",
       "      <td>i finally fell asleep feeling angry useless an...</td>\n",
       "      <td>worry</td>\n",
       "    </tr>\n",
       "    <tr>\n",
       "      <th>8</th>\n",
       "      <td>8</td>\n",
       "      <td>i feel a bit annoyed and antsy in a good way</td>\n",
       "      <td>neutral</td>\n",
       "    </tr>\n",
       "    <tr>\n",
       "      <th>9</th>\n",
       "      <td>9</td>\n",
       "      <td>i feel like i ve regained another vital part o...</td>\n",
       "      <td>neutral</td>\n",
       "    </tr>\n",
       "    <tr>\n",
       "      <th>10</th>\n",
       "      <td>10</td>\n",
       "      <td>i feel a bit like franz liebkind in the produc...</td>\n",
       "      <td>neutral</td>\n",
       "    </tr>\n",
       "    <tr>\n",
       "      <th>11</th>\n",
       "      <td>11</td>\n",
       "      <td>i was feeling at the start didnt want to move ...</td>\n",
       "      <td>neutral</td>\n",
       "    </tr>\n",
       "    <tr>\n",
       "      <th>12</th>\n",
       "      <td>12</td>\n",
       "      <td>i was bitten by a dog</td>\n",
       "      <td>neutral</td>\n",
       "    </tr>\n",
       "    <tr>\n",
       "      <th>13</th>\n",
       "      <td>13</td>\n",
       "      <td>i do not always find myself feeling thankful b...</td>\n",
       "      <td>neutral</td>\n",
       "    </tr>\n",
       "    <tr>\n",
       "      <th>14</th>\n",
       "      <td>14</td>\n",
       "      <td>i just try not to talk to anyone when i feel i...</td>\n",
       "      <td>neutral</td>\n",
       "    </tr>\n",
       "    <tr>\n",
       "      <th>15</th>\n",
       "      <td>15</td>\n",
       "      <td>i feel like they hated me since then</td>\n",
       "      <td>hate</td>\n",
       "    </tr>\n",
       "    <tr>\n",
       "      <th>16</th>\n",
       "      <td>16</td>\n",
       "      <td>i dont know who wrote the following little not...</td>\n",
       "      <td>neutral</td>\n",
       "    </tr>\n",
       "    <tr>\n",
       "      <th>17</th>\n",
       "      <td>17</td>\n",
       "      <td>i feel offended i choose to tell you guys how ...</td>\n",
       "      <td>neutral</td>\n",
       "    </tr>\n",
       "    <tr>\n",
       "      <th>18</th>\n",
       "      <td>18</td>\n",
       "      <td>i remember feeling as if i didn t belong and t...</td>\n",
       "      <td>neutral</td>\n",
       "    </tr>\n",
       "    <tr>\n",
       "      <th>19</th>\n",
       "      <td>19</td>\n",
       "      <td>i feel like i have to redeem myself even thoug...</td>\n",
       "      <td>neutral</td>\n",
       "    </tr>\n",
       "  </tbody>\n",
       "</table>\n",
       "</div>"
      ],
      "text/plain": [
       "    Unnamed: 0                                               text  Emotion\n",
       "0            0  i seriously hate one subject to death but now ...     hate\n",
       "1            1                 im so full of life i feel appalled  neutral\n",
       "2            2  i sit here to write i start to dig out my feel...  neutral\n",
       "3            3  ive been really angry with r and i feel like a...    anger\n",
       "4            4  i feel suspicious if there is no one outside l...  neutral\n",
       "5            5  i feel jealous becasue i wanted that kind of l...     love\n",
       "6            6  when a friend of mine keeps telling me morbid ...  neutral\n",
       "7            7  i finally fell asleep feeling angry useless an...    worry\n",
       "8            8       i feel a bit annoyed and antsy in a good way  neutral\n",
       "9            9  i feel like i ve regained another vital part o...  neutral\n",
       "10          10  i feel a bit like franz liebkind in the produc...  neutral\n",
       "11          11  i was feeling at the start didnt want to move ...  neutral\n",
       "12          12                              i was bitten by a dog  neutral\n",
       "13          13  i do not always find myself feeling thankful b...  neutral\n",
       "14          14  i just try not to talk to anyone when i feel i...  neutral\n",
       "15          15               i feel like they hated me since then     hate\n",
       "16          16  i dont know who wrote the following little not...  neutral\n",
       "17          17  i feel offended i choose to tell you guys how ...  neutral\n",
       "18          18  i remember feeling as if i didn t belong and t...  neutral\n",
       "19          19  i feel like i have to redeem myself even thoug...  neutral"
      ]
     },
     "execution_count": 105,
     "metadata": {},
     "output_type": "execute_result"
    }
   ],
   "source": [
    "import pandas as pd\n",
    "file = r\"C:\\Users\\ruchitha\\Downloads\\emotion_sentimen_dataset.csv\"\n",
    "df = pd.read_csv(file)\n",
    "df.head(20)"
   ]
  },
  {
   "cell_type": "markdown",
   "id": "441e6530",
   "metadata": {},
   "source": [
    "### 1. Remove stop words using regex"
   ]
  },
  {
   "cell_type": "markdown",
   "id": "c3936ec3",
   "metadata": {},
   "source": [
    "#### Importing natural language tool kit"
   ]
  },
  {
   "cell_type": "code",
   "execution_count": 104,
   "id": "adb2f30b",
   "metadata": {},
   "outputs": [
    {
     "name": "stdout",
     "output_type": "stream",
     "text": [
      "{'no', 'me', 'the', 'was', 'having', 'can', 'that', 'most', 'were', 'so', 'through', 'him', 'o', 'hadn', 'haven', 'their', \"mustn't\", 'ain', 'shouldn', 'been', \"wasn't\", 'further', \"hasn't\", 'll', 'very', \"couldn't\", 'few', \"haven't\", 'ourselves', 'should', 'they', 'and', 'an', \"she's\", 'theirs', 'y', 'our', 'won', 'mightn', 'only', 'themselves', 'when', 'shan', 'here', 'i', 'now', 'where', 'what', 'are', \"hadn't\", 'myself', 'why', 'any', 'ours', \"that'll\", 'does', 'whom', 'wasn', 'your', \"you'd\", 'being', 'isn', 'into', 'a', \"needn't\", 'doesn', 'again', 'did', 't', 'more', \"you're\", 'it', 're', 'has', 'weren', 'herself', 'am', 'up', 'under', 'not', 'down', 'aren', \"won't\", 'or', 's', 'will', 'out', 'his', 'at', 'after', 'for', 'who', 'ma', 'he', 'on', 'too', 'do', 've', \"wouldn't\", 'she', 'how', 'against', \"should've\", 'which', 'during', 'before', 'in', 'all', \"didn't\", \"shouldn't\", \"weren't\", 'himself', \"shan't\", 'couldn', 'hers', 'doing', 'than', 'then', 'there', 'm', 'its', 'if', 'because', 'you', \"you've\", 'wouldn', \"doesn't\", 'of', 'them', 'between', \"it's\", 'while', \"don't\", 'to', 'nor', 'we', 'mustn', \"you'll\", 'those', 'once', 'yourself', 'above', 'from', 'but', 'off', 'just', 'this', \"mightn't\", 'same', 'hasn', \"isn't\", 'about', 'had', 'yours', 'be', 'have', 'd', 'such', 'my', 'yourselves', 'her', 'needn', 'other', 'these', 'itself', 'both', 'as', 'some', 'below', \"aren't\", 'is', 'by', 'with', 'over', 'didn', 'own', 'each', 'until', 'don'}\n"
     ]
    },
    {
     "name": "stderr",
     "output_type": "stream",
     "text": [
      "[nltk_data] Downloading package stopwords to\n",
      "[nltk_data]     C:\\Users\\ruchitha\\AppData\\Roaming\\nltk_data...\n",
      "[nltk_data]   Package stopwords is already up-to-date!\n"
     ]
    }
   ],
   "source": [
    "import nltk \n",
    "nltk.download('stopwords')\n",
    "stopwords = set(nltk.corpus.stopwords.words('english'))\n",
    "print(stopwords)"
   ]
  },
  {
   "cell_type": "markdown",
   "id": "c5e3befa",
   "metadata": {},
   "source": [
    "#### remove_stopwords function to each text in the 'text' column of the DataFrame df, removing the stopwords defined in the stopwords list."
   ]
  },
  {
   "cell_type": "code",
   "execution_count": 120,
   "id": "478c2b5a",
   "metadata": {},
   "outputs": [],
   "source": [
    "def remove_stopwords(text, stopwords):\n",
    "    pattern = r'\\b(?:{})\\b'.format('|'.join(stopwords))\n",
    "    return re.sub(pattern, '', text)"
   ]
  },
  {
   "cell_type": "markdown",
   "id": "5ff13ab6",
   "metadata": {},
   "source": [
    "#### Apply remove_stopwords function to the 'text' column"
   ]
  },
  {
   "cell_type": "code",
   "execution_count": 121,
   "id": "86d957be",
   "metadata": {},
   "outputs": [],
   "source": [
    "df['text'] = df['text'].apply(lambda x: remove_stopwords(str(x), stopwords))"
   ]
  },
  {
   "cell_type": "code",
   "execution_count": 122,
   "id": "4e17be25",
   "metadata": {},
   "outputs": [
    {
     "name": "stdout",
     "output_type": "stream",
     "text": [
      "        Unnamed: 0                                               text  Emotion\n",
      "0                0  i seriously hate one subject to death  now i f...     hate\n",
      "1                1                   im  full of life i feel appalled  neutral\n",
      "2                2  i sit here to write i start to dig out my feel...  neutral\n",
      "3                3  ive been really angry with   i feel  an idiot ...    anger\n",
      "4                4  i feel suspicious if there  no one outside   r...  neutral\n",
      "...            ...                                                ...      ...\n",
      "839550      839550  i feel  telling these horny devils to find  si...  neutral\n",
      "839551      839551  i began to realize that when i was feeling agi...  neutral\n",
      "839552      839552  i feel very curious be why previous early dawn...  neutral\n",
      "839553      839553  i feel that becuase of  tyranical nature of  g...  neutral\n",
      "839554      839554  i think that after i had spent some time inves...  neutral\n",
      "\n",
      "[839555 rows x 3 columns]\n"
     ]
    }
   ],
   "source": [
    "print(df) #prints the data frame"
   ]
  },
  {
   "cell_type": "markdown",
   "id": "245b5127",
   "metadata": {},
   "source": [
    "### 2. Containing all the statistical operations and form various kinds of plots depicting the data or the business focused on."
   ]
  },
  {
   "cell_type": "markdown",
   "id": "a9b465c9",
   "metadata": {},
   "source": [
    "#### Columns- displays the names of columns in the dataframe"
   ]
  },
  {
   "cell_type": "code",
   "execution_count": 49,
   "id": "0c06a01e",
   "metadata": {},
   "outputs": [
    {
     "data": {
      "text/plain": [
       "Index(['Unnamed: 0', 'text', 'Emotion'], dtype='object')"
      ]
     },
     "execution_count": 49,
     "metadata": {},
     "output_type": "execute_result"
    }
   ],
   "source": [
    "df.columns"
   ]
  },
  {
   "cell_type": "markdown",
   "id": "d85a498e",
   "metadata": {},
   "source": [
    "#### dtypes- returns the data types of columns in the dataframe"
   ]
  },
  {
   "cell_type": "code",
   "execution_count": 50,
   "id": "c45cfdcd",
   "metadata": {},
   "outputs": [
    {
     "data": {
      "text/plain": [
       "Unnamed: 0     int64\n",
       "text          object\n",
       "Emotion       object\n",
       "dtype: object"
      ]
     },
     "execution_count": 50,
     "metadata": {},
     "output_type": "execute_result"
    }
   ],
   "source": [
    "df.dtypes"
   ]
  },
  {
   "cell_type": "markdown",
   "id": "e24bf15a",
   "metadata": {},
   "source": [
    "#### info() menthod prints the overview of the DataFrame"
   ]
  },
  {
   "cell_type": "code",
   "execution_count": 51,
   "id": "21461846",
   "metadata": {},
   "outputs": [
    {
     "name": "stdout",
     "output_type": "stream",
     "text": [
      "<class 'pandas.core.frame.DataFrame'>\n",
      "RangeIndex: 839555 entries, 0 to 839554\n",
      "Data columns (total 3 columns):\n",
      " #   Column      Non-Null Count   Dtype \n",
      "---  ------      --------------   ----- \n",
      " 0   Unnamed: 0  839555 non-null  int64 \n",
      " 1   text        839555 non-null  object\n",
      " 2   Emotion     839555 non-null  object\n",
      "dtypes: int64(1), object(2)\n",
      "memory usage: 19.2+ MB\n"
     ]
    }
   ],
   "source": [
    "df.info()"
   ]
  },
  {
   "cell_type": "markdown",
   "id": "ad197031",
   "metadata": {},
   "source": [
    "#### describe() method prints statistical data of the DataFrame"
   ]
  },
  {
   "cell_type": "code",
   "execution_count": 52,
   "id": "f9d09665",
   "metadata": {},
   "outputs": [
    {
     "data": {
      "text/html": [
       "<div>\n",
       "<style scoped>\n",
       "    .dataframe tbody tr th:only-of-type {\n",
       "        vertical-align: middle;\n",
       "    }\n",
       "\n",
       "    .dataframe tbody tr th {\n",
       "        vertical-align: top;\n",
       "    }\n",
       "\n",
       "    .dataframe thead th {\n",
       "        text-align: right;\n",
       "    }\n",
       "</style>\n",
       "<table border=\"1\" class=\"dataframe\">\n",
       "  <thead>\n",
       "    <tr style=\"text-align: right;\">\n",
       "      <th></th>\n",
       "      <th>Unnamed: 0</th>\n",
       "    </tr>\n",
       "  </thead>\n",
       "  <tbody>\n",
       "    <tr>\n",
       "      <th>count</th>\n",
       "      <td>839555.000000</td>\n",
       "    </tr>\n",
       "    <tr>\n",
       "      <th>mean</th>\n",
       "      <td>419777.000000</td>\n",
       "    </tr>\n",
       "    <tr>\n",
       "      <th>std</th>\n",
       "      <td>242358.796961</td>\n",
       "    </tr>\n",
       "    <tr>\n",
       "      <th>min</th>\n",
       "      <td>0.000000</td>\n",
       "    </tr>\n",
       "    <tr>\n",
       "      <th>25%</th>\n",
       "      <td>209888.500000</td>\n",
       "    </tr>\n",
       "    <tr>\n",
       "      <th>50%</th>\n",
       "      <td>419777.000000</td>\n",
       "    </tr>\n",
       "    <tr>\n",
       "      <th>75%</th>\n",
       "      <td>629665.500000</td>\n",
       "    </tr>\n",
       "    <tr>\n",
       "      <th>max</th>\n",
       "      <td>839554.000000</td>\n",
       "    </tr>\n",
       "  </tbody>\n",
       "</table>\n",
       "</div>"
      ],
      "text/plain": [
       "          Unnamed: 0\n",
       "count  839555.000000\n",
       "mean   419777.000000\n",
       "std    242358.796961\n",
       "min         0.000000\n",
       "25%    209888.500000\n",
       "50%    419777.000000\n",
       "75%    629665.500000\n",
       "max    839554.000000"
      ]
     },
     "execution_count": 52,
     "metadata": {},
     "output_type": "execute_result"
    }
   ],
   "source": [
    "df.describe()"
   ]
  },
  {
   "cell_type": "markdown",
   "id": "ff5a0e3e",
   "metadata": {},
   "source": [
    "#### creating a new column 'length' in DataFrame and assigning it the length of each string of the 'text' column"
   ]
  },
  {
   "cell_type": "code",
   "execution_count": 53,
   "id": "74821915",
   "metadata": {},
   "outputs": [
    {
     "data": {
      "text/html": [
       "<div>\n",
       "<style scoped>\n",
       "    .dataframe tbody tr th:only-of-type {\n",
       "        vertical-align: middle;\n",
       "    }\n",
       "\n",
       "    .dataframe tbody tr th {\n",
       "        vertical-align: top;\n",
       "    }\n",
       "\n",
       "    .dataframe thead th {\n",
       "        text-align: right;\n",
       "    }\n",
       "</style>\n",
       "<table border=\"1\" class=\"dataframe\">\n",
       "  <thead>\n",
       "    <tr style=\"text-align: right;\">\n",
       "      <th></th>\n",
       "      <th>Unnamed: 0</th>\n",
       "      <th>length</th>\n",
       "    </tr>\n",
       "  </thead>\n",
       "  <tbody>\n",
       "    <tr>\n",
       "      <th>count</th>\n",
       "      <td>839555.000000</td>\n",
       "      <td>839555.000000</td>\n",
       "    </tr>\n",
       "    <tr>\n",
       "      <th>mean</th>\n",
       "      <td>419777.000000</td>\n",
       "      <td>97.031208</td>\n",
       "    </tr>\n",
       "    <tr>\n",
       "      <th>std</th>\n",
       "      <td>242358.796961</td>\n",
       "      <td>56.198160</td>\n",
       "    </tr>\n",
       "    <tr>\n",
       "      <th>min</th>\n",
       "      <td>0.000000</td>\n",
       "      <td>2.000000</td>\n",
       "    </tr>\n",
       "    <tr>\n",
       "      <th>25%</th>\n",
       "      <td>209888.500000</td>\n",
       "      <td>54.000000</td>\n",
       "    </tr>\n",
       "    <tr>\n",
       "      <th>50%</th>\n",
       "      <td>419777.000000</td>\n",
       "      <td>86.000000</td>\n",
       "    </tr>\n",
       "    <tr>\n",
       "      <th>75%</th>\n",
       "      <td>629665.500000</td>\n",
       "      <td>128.000000</td>\n",
       "    </tr>\n",
       "    <tr>\n",
       "      <th>max</th>\n",
       "      <td>839554.000000</td>\n",
       "      <td>830.000000</td>\n",
       "    </tr>\n",
       "  </tbody>\n",
       "</table>\n",
       "</div>"
      ],
      "text/plain": [
       "          Unnamed: 0         length\n",
       "count  839555.000000  839555.000000\n",
       "mean   419777.000000      97.031208\n",
       "std    242358.796961      56.198160\n",
       "min         0.000000       2.000000\n",
       "25%    209888.500000      54.000000\n",
       "50%    419777.000000      86.000000\n",
       "75%    629665.500000     128.000000\n",
       "max    839554.000000     830.000000"
      ]
     },
     "execution_count": 53,
     "metadata": {},
     "output_type": "execute_result"
    }
   ],
   "source": [
    "df['length'] = df['text'].str.len()\n",
    "df.describe() "
   ]
  },
  {
   "cell_type": "markdown",
   "id": "5e5326d7",
   "metadata": {},
   "source": [
    "#### Gives the overview of data in the dataframe which includes the most common values and their frequencies"
   ]
  },
  {
   "cell_type": "code",
   "execution_count": 54,
   "id": "2f217e85",
   "metadata": {},
   "outputs": [
    {
     "data": {
      "text/html": [
       "<div>\n",
       "<style scoped>\n",
       "    .dataframe tbody tr th:only-of-type {\n",
       "        vertical-align: middle;\n",
       "    }\n",
       "\n",
       "    .dataframe tbody tr th {\n",
       "        vertical-align: top;\n",
       "    }\n",
       "\n",
       "    .dataframe thead th {\n",
       "        text-align: right;\n",
       "    }\n",
       "</style>\n",
       "<table border=\"1\" class=\"dataframe\">\n",
       "  <thead>\n",
       "    <tr style=\"text-align: right;\">\n",
       "      <th></th>\n",
       "      <th>text</th>\n",
       "      <th>Emotion</th>\n",
       "    </tr>\n",
       "  </thead>\n",
       "  <tbody>\n",
       "    <tr>\n",
       "      <th>count</th>\n",
       "      <td>839555</td>\n",
       "      <td>839555</td>\n",
       "    </tr>\n",
       "    <tr>\n",
       "      <th>unique</th>\n",
       "      <td>393822</td>\n",
       "      <td>13</td>\n",
       "    </tr>\n",
       "    <tr>\n",
       "      <th>top</th>\n",
       "      <td>i feel more adventurous willing to take risks</td>\n",
       "      <td>neutral</td>\n",
       "    </tr>\n",
       "    <tr>\n",
       "      <th>freq</th>\n",
       "      <td>32</td>\n",
       "      <td>674538</td>\n",
       "    </tr>\n",
       "  </tbody>\n",
       "</table>\n",
       "</div>"
      ],
      "text/plain": [
       "                                                 text  Emotion\n",
       "count                                          839555   839555\n",
       "unique                                         393822       13\n",
       "top     i feel more adventurous willing to take risks  neutral\n",
       "freq                                               32   674538"
      ]
     },
     "execution_count": 54,
     "metadata": {},
     "output_type": "execute_result"
    }
   ],
   "source": [
    "df.describe(include='O')"
   ]
  },
  {
   "cell_type": "markdown",
   "id": "d0afe964",
   "metadata": {},
   "source": [
    "#### Below code returns the count of missing values for each column in the dataframe"
   ]
  },
  {
   "cell_type": "code",
   "execution_count": 55,
   "id": "3cb3d8ba",
   "metadata": {},
   "outputs": [
    {
     "data": {
      "text/plain": [
       "Unnamed: 0    0\n",
       "text          0\n",
       "Emotion       0\n",
       "length        0\n",
       "dtype: int64"
      ]
     },
     "execution_count": 55,
     "metadata": {},
     "output_type": "execute_result"
    }
   ],
   "source": [
    "df.isna().sum()"
   ]
  },
  {
   "cell_type": "markdown",
   "id": "c0e11a21",
   "metadata": {},
   "source": [
    "#### Converting the values in the 'text', 'Emotion' columns of the DataFrame to uppercase using the upper() method"
   ]
  },
  {
   "cell_type": "code",
   "execution_count": 56,
   "id": "566937c2",
   "metadata": {},
   "outputs": [
    {
     "data": {
      "text/html": [
       "<div>\n",
       "<style scoped>\n",
       "    .dataframe tbody tr th:only-of-type {\n",
       "        vertical-align: middle;\n",
       "    }\n",
       "\n",
       "    .dataframe tbody tr th {\n",
       "        vertical-align: top;\n",
       "    }\n",
       "\n",
       "    .dataframe thead th {\n",
       "        text-align: right;\n",
       "    }\n",
       "</style>\n",
       "<table border=\"1\" class=\"dataframe\">\n",
       "  <thead>\n",
       "    <tr style=\"text-align: right;\">\n",
       "      <th></th>\n",
       "      <th>Unnamed: 0</th>\n",
       "      <th>text</th>\n",
       "      <th>Emotion</th>\n",
       "      <th>length</th>\n",
       "    </tr>\n",
       "  </thead>\n",
       "  <tbody>\n",
       "    <tr>\n",
       "      <th>0</th>\n",
       "      <td>0</td>\n",
       "      <td>I SERIOUSLY HATE ONE SUBJECT TO DEATH BUT NOW ...</td>\n",
       "      <td>HATE</td>\n",
       "      <td>73</td>\n",
       "    </tr>\n",
       "    <tr>\n",
       "      <th>1</th>\n",
       "      <td>1</td>\n",
       "      <td>IM SO FULL OF LIFE I FEEL APPALLED</td>\n",
       "      <td>NEUTRAL</td>\n",
       "      <td>34</td>\n",
       "    </tr>\n",
       "    <tr>\n",
       "      <th>2</th>\n",
       "      <td>2</td>\n",
       "      <td>I SIT HERE TO WRITE I START TO DIG OUT MY FEEL...</td>\n",
       "      <td>NEUTRAL</td>\n",
       "      <td>131</td>\n",
       "    </tr>\n",
       "    <tr>\n",
       "      <th>3</th>\n",
       "      <td>3</td>\n",
       "      <td>IVE BEEN REALLY ANGRY WITH R AND I FEEL LIKE A...</td>\n",
       "      <td>ANGER</td>\n",
       "      <td>89</td>\n",
       "    </tr>\n",
       "    <tr>\n",
       "      <th>4</th>\n",
       "      <td>4</td>\n",
       "      <td>I FEEL SUSPICIOUS IF THERE IS NO ONE OUTSIDE L...</td>\n",
       "      <td>NEUTRAL</td>\n",
       "      <td>87</td>\n",
       "    </tr>\n",
       "    <tr>\n",
       "      <th>5</th>\n",
       "      <td>5</td>\n",
       "      <td>I FEEL JEALOUS BECASUE I WANTED THAT KIND OF L...</td>\n",
       "      <td>LOVE</td>\n",
       "      <td>105</td>\n",
       "    </tr>\n",
       "    <tr>\n",
       "      <th>6</th>\n",
       "      <td>6</td>\n",
       "      <td>WHEN A FRIEND OF MINE KEEPS TELLING ME MORBID ...</td>\n",
       "      <td>NEUTRAL</td>\n",
       "      <td>77</td>\n",
       "    </tr>\n",
       "    <tr>\n",
       "      <th>7</th>\n",
       "      <td>7</td>\n",
       "      <td>I FINALLY FELL ASLEEP FEELING ANGRY USELESS AN...</td>\n",
       "      <td>WORRY</td>\n",
       "      <td>69</td>\n",
       "    </tr>\n",
       "    <tr>\n",
       "      <th>8</th>\n",
       "      <td>8</td>\n",
       "      <td>I FEEL A BIT ANNOYED AND ANTSY IN A GOOD WAY</td>\n",
       "      <td>NEUTRAL</td>\n",
       "      <td>44</td>\n",
       "    </tr>\n",
       "    <tr>\n",
       "      <th>9</th>\n",
       "      <td>9</td>\n",
       "      <td>I FEEL LIKE I VE REGAINED ANOTHER VITAL PART O...</td>\n",
       "      <td>NEUTRAL</td>\n",
       "      <td>71</td>\n",
       "    </tr>\n",
       "  </tbody>\n",
       "</table>\n",
       "</div>"
      ],
      "text/plain": [
       "   Unnamed: 0                                               text  Emotion  \\\n",
       "0           0  I SERIOUSLY HATE ONE SUBJECT TO DEATH BUT NOW ...     HATE   \n",
       "1           1                 IM SO FULL OF LIFE I FEEL APPALLED  NEUTRAL   \n",
       "2           2  I SIT HERE TO WRITE I START TO DIG OUT MY FEEL...  NEUTRAL   \n",
       "3           3  IVE BEEN REALLY ANGRY WITH R AND I FEEL LIKE A...    ANGER   \n",
       "4           4  I FEEL SUSPICIOUS IF THERE IS NO ONE OUTSIDE L...  NEUTRAL   \n",
       "5           5  I FEEL JEALOUS BECASUE I WANTED THAT KIND OF L...     LOVE   \n",
       "6           6  WHEN A FRIEND OF MINE KEEPS TELLING ME MORBID ...  NEUTRAL   \n",
       "7           7  I FINALLY FELL ASLEEP FEELING ANGRY USELESS AN...    WORRY   \n",
       "8           8       I FEEL A BIT ANNOYED AND ANTSY IN A GOOD WAY  NEUTRAL   \n",
       "9           9  I FEEL LIKE I VE REGAINED ANOTHER VITAL PART O...  NEUTRAL   \n",
       "\n",
       "   length  \n",
       "0      73  \n",
       "1      34  \n",
       "2     131  \n",
       "3      89  \n",
       "4      87  \n",
       "5     105  \n",
       "6      77  \n",
       "7      69  \n",
       "8      44  \n",
       "9      71  "
      ]
     },
     "execution_count": 56,
     "metadata": {},
     "output_type": "execute_result"
    }
   ],
   "source": [
    "df['Emotion'] = df['Emotion'].str.upper()\n",
    "df['text'] = df['text'].str.upper()\n",
    "df.head(10)#displaying first 10 rows of the DataFrame"
   ]
  },
  {
   "cell_type": "markdown",
   "id": "52a42437",
   "metadata": {},
   "source": [
    "#### Filtering DataFrame to find rows where the 'Emotion' column contains the string 'NEUTRAL'"
   ]
  },
  {
   "cell_type": "code",
   "execution_count": 58,
   "id": "698e7149",
   "metadata": {},
   "outputs": [
    {
     "data": {
      "text/html": [
       "<div>\n",
       "<style scoped>\n",
       "    .dataframe tbody tr th:only-of-type {\n",
       "        vertical-align: middle;\n",
       "    }\n",
       "\n",
       "    .dataframe tbody tr th {\n",
       "        vertical-align: top;\n",
       "    }\n",
       "\n",
       "    .dataframe thead th {\n",
       "        text-align: right;\n",
       "    }\n",
       "</style>\n",
       "<table border=\"1\" class=\"dataframe\">\n",
       "  <thead>\n",
       "    <tr style=\"text-align: right;\">\n",
       "      <th></th>\n",
       "      <th>Unnamed: 0</th>\n",
       "      <th>text</th>\n",
       "      <th>Emotion</th>\n",
       "      <th>length</th>\n",
       "    </tr>\n",
       "  </thead>\n",
       "  <tbody>\n",
       "    <tr>\n",
       "      <th>1</th>\n",
       "      <td>1</td>\n",
       "      <td>IM SO FULL OF LIFE I FEEL APPALLED</td>\n",
       "      <td>NEUTRAL</td>\n",
       "      <td>34</td>\n",
       "    </tr>\n",
       "    <tr>\n",
       "      <th>2</th>\n",
       "      <td>2</td>\n",
       "      <td>I SIT HERE TO WRITE I START TO DIG OUT MY FEEL...</td>\n",
       "      <td>NEUTRAL</td>\n",
       "      <td>131</td>\n",
       "    </tr>\n",
       "    <tr>\n",
       "      <th>4</th>\n",
       "      <td>4</td>\n",
       "      <td>I FEEL SUSPICIOUS IF THERE IS NO ONE OUTSIDE L...</td>\n",
       "      <td>NEUTRAL</td>\n",
       "      <td>87</td>\n",
       "    </tr>\n",
       "    <tr>\n",
       "      <th>6</th>\n",
       "      <td>6</td>\n",
       "      <td>WHEN A FRIEND OF MINE KEEPS TELLING ME MORBID ...</td>\n",
       "      <td>NEUTRAL</td>\n",
       "      <td>77</td>\n",
       "    </tr>\n",
       "    <tr>\n",
       "      <th>8</th>\n",
       "      <td>8</td>\n",
       "      <td>I FEEL A BIT ANNOYED AND ANTSY IN A GOOD WAY</td>\n",
       "      <td>NEUTRAL</td>\n",
       "      <td>44</td>\n",
       "    </tr>\n",
       "    <tr>\n",
       "      <th>...</th>\n",
       "      <td>...</td>\n",
       "      <td>...</td>\n",
       "      <td>...</td>\n",
       "      <td>...</td>\n",
       "    </tr>\n",
       "    <tr>\n",
       "      <th>839550</th>\n",
       "      <td>839550</td>\n",
       "      <td>I FEEL LIKE TELLING THESE HORNY DEVILS TO FIND...</td>\n",
       "      <td>NEUTRAL</td>\n",
       "      <td>132</td>\n",
       "    </tr>\n",
       "    <tr>\n",
       "      <th>839551</th>\n",
       "      <td>839551</td>\n",
       "      <td>I BEGAN TO REALIZE THAT WHEN I WAS FEELING AGI...</td>\n",
       "      <td>NEUTRAL</td>\n",
       "      <td>111</td>\n",
       "    </tr>\n",
       "    <tr>\n",
       "      <th>839552</th>\n",
       "      <td>839552</td>\n",
       "      <td>I FEEL VERY CURIOUS BE WHY PREVIOUS EARLY DAWN...</td>\n",
       "      <td>NEUTRAL</td>\n",
       "      <td>90</td>\n",
       "    </tr>\n",
       "    <tr>\n",
       "      <th>839553</th>\n",
       "      <td>839553</td>\n",
       "      <td>I FEEL THAT BECUASE OF THE TYRANICAL NATURE OF...</td>\n",
       "      <td>NEUTRAL</td>\n",
       "      <td>222</td>\n",
       "    </tr>\n",
       "    <tr>\n",
       "      <th>839554</th>\n",
       "      <td>839554</td>\n",
       "      <td>I THINK THAT AFTER I HAD SPENT SOME TIME INVES...</td>\n",
       "      <td>NEUTRAL</td>\n",
       "      <td>132</td>\n",
       "    </tr>\n",
       "  </tbody>\n",
       "</table>\n",
       "<p>674538 rows × 4 columns</p>\n",
       "</div>"
      ],
      "text/plain": [
       "        Unnamed: 0                                               text  \\\n",
       "1                1                 IM SO FULL OF LIFE I FEEL APPALLED   \n",
       "2                2  I SIT HERE TO WRITE I START TO DIG OUT MY FEEL...   \n",
       "4                4  I FEEL SUSPICIOUS IF THERE IS NO ONE OUTSIDE L...   \n",
       "6                6  WHEN A FRIEND OF MINE KEEPS TELLING ME MORBID ...   \n",
       "8                8       I FEEL A BIT ANNOYED AND ANTSY IN A GOOD WAY   \n",
       "...            ...                                                ...   \n",
       "839550      839550  I FEEL LIKE TELLING THESE HORNY DEVILS TO FIND...   \n",
       "839551      839551  I BEGAN TO REALIZE THAT WHEN I WAS FEELING AGI...   \n",
       "839552      839552  I FEEL VERY CURIOUS BE WHY PREVIOUS EARLY DAWN...   \n",
       "839553      839553  I FEEL THAT BECUASE OF THE TYRANICAL NATURE OF...   \n",
       "839554      839554  I THINK THAT AFTER I HAD SPENT SOME TIME INVES...   \n",
       "\n",
       "        Emotion  length  \n",
       "1       NEUTRAL      34  \n",
       "2       NEUTRAL     131  \n",
       "4       NEUTRAL      87  \n",
       "6       NEUTRAL      77  \n",
       "8       NEUTRAL      44  \n",
       "...         ...     ...  \n",
       "839550  NEUTRAL     132  \n",
       "839551  NEUTRAL     111  \n",
       "839552  NEUTRAL      90  \n",
       "839553  NEUTRAL     222  \n",
       "839554  NEUTRAL     132  \n",
       "\n",
       "[674538 rows x 4 columns]"
      ]
     },
     "execution_count": 58,
     "metadata": {},
     "output_type": "execute_result"
    }
   ],
   "source": [
    "df[df['Emotion'].str.contains('NEUTRAL')]"
   ]
  },
  {
   "cell_type": "markdown",
   "id": "81588759",
   "metadata": {},
   "source": [
    "#### Plotting line plot for the 'length' column"
   ]
  },
  {
   "cell_type": "code",
   "execution_count": 59,
   "id": "1b5828c7",
   "metadata": {},
   "outputs": [
    {
     "data": {
      "image/png": "[encoded data removed]",
      "text/plain": [
       "<Figure size 1000x800 with 1 Axes>"
      ]
     },
     "metadata": {},
     "output_type": "display_data"
    }
   ],
   "source": [
    "import matplotlib.pyplot as plt\n",
    "df['length'].plot()\n",
    "plt.xlabel('Index')\n",
    "plt.ylabel('Length')\n",
    "plt.title('Length Distribution')\n",
    "plt.show()"
   ]
  },
  {
   "cell_type": "markdown",
   "id": "a03a096c",
   "metadata": {},
   "source": [
    "#### Plotting horizontal box plot of the 'length' column"
   ]
  },
  {
   "cell_type": "code",
   "execution_count": 60,
   "id": "286e0f59",
   "metadata": {},
   "outputs": [
    {
     "data": {
      "image/png": "[encoded data removed]",
      "text/plain": [
       "<Figure size 1000x800 with 1 Axes>"
      ]
     },
     "metadata": {},
     "output_type": "display_data"
    }
   ],
   "source": [
    "df['length'].plot(kind='box', vert=False)\n",
    "plt.xlabel('Length')\n",
    "plt.title('Length Distribution')\n",
    "plt.show()"
   ]
  },
  {
   "cell_type": "markdown",
   "id": "bce3c4c7",
   "metadata": {},
   "source": [
    "#### Plotting histogram of the 'length' column with 30 bins"
   ]
  },
  {
   "cell_type": "code",
   "execution_count": 61,
   "id": "e9614df0",
   "metadata": {},
   "outputs": [
    {
     "data": {
      "image/png": "[encoded data removed]",
      "text/plain": [
       "<Figure size 1000x800 with 1 Axes>"
      ]
     },
     "metadata": {},
     "output_type": "display_data"
    }
   ],
   "source": [
    "df['length'].plot(kind='hist', bins=30)\n",
    "plt.xlabel('Length')\n",
    "plt.title('Length Distribution')\n",
    "plt.show()"
   ]
  },
  {
   "cell_type": "markdown",
   "id": "4154b893",
   "metadata": {},
   "source": [
    "#### Generating a box plot showing the distribution of 'length' for each Emotion ('HATE', 'NEUTRAL', 'ANGER', 'LOVE', 'WORRY')"
   ]
  },
  {
   "cell_type": "code",
   "execution_count": 62,
   "id": "881df3e2",
   "metadata": {},
   "outputs": [
    {
     "name": "stderr",
     "output_type": "stream",
     "text": [
      "C:\\Users\\ruchitha\\anaconda3\\Lib\\site-packages\\seaborn\\axisgrid.py:118: UserWarning: The figure layout has changed to tight\n",
      "  self._figure.tight_layout(*args, **kwargs)\n"
     ]
    },
    {
     "data": {
      "image/png": "[encoded data removed]",
      "text/plain": [
       "<Figure size 1000x800 with 1 Axes>"
      ]
     },
     "metadata": {},
     "output_type": "display_data"
    }
   ],
   "source": [
    "import seaborn as sns \n",
    "where = df['Emotion'].isin(['LOVE', 'NEUTRAL', 'HATE', 'WORRY', 'ANGER'])\n",
    "g = sns.catplot(data=df[where], x=\"Emotion\", y=\"length\", kind='box')\n",
    "g.fig.set_size_inches(10, 8) "
   ]
  },
  {
   "cell_type": "markdown",
   "id": "1b042ffd",
   "metadata": {},
   "source": [
    "### 3. Create pipeline, remove stop words, word frequency analysis and word clouds"
   ]
  },
  {
   "cell_type": "code",
   "execution_count": null,
   "id": "d93d5997",
   "metadata": {},
   "outputs": [],
   "source": []
  },
  {
   "cell_type": "code",
   "execution_count": 70,
   "id": "0973fa2a",
   "metadata": {},
   "outputs": [],
   "source": [
    "import regex as re\n",
    "\n",
    "def tokenize(text):\n",
    "    return re.findall(r'[\\w-]*[a-z|A-Z][\\w-]*', text)"
   ]
  },
  {
   "cell_type": "code",
   "execution_count": 71,
   "id": "1f4d1fd7",
   "metadata": {},
   "outputs": [],
   "source": [
    "def remove_stop(tokens):\n",
    "    return [t for t in tokens if t.lower() not in stopwords]"
   ]
  },
  {
   "cell_type": "code",
   "execution_count": 72,
   "id": "35b6e19f",
   "metadata": {},
   "outputs": [],
   "source": [
    "pipeline = [str.lower, tokenize, remove_stop]\n",
    "\n",
    "def prepare(text, pipeline):\n",
    "    tokens = text\n",
    "    for fun in pipeline:\n",
    "        tokens = fun(tokens)\n",
    "    return tokens"
   ]
  },
  {
   "cell_type": "code",
   "execution_count": 73,
   "id": "71394686",
   "metadata": {},
   "outputs": [],
   "source": [
    "df['tokens'] = df['text'].apply(prepare, pipeline=pipeline)"
   ]
  },
  {
   "cell_type": "code",
   "execution_count": 74,
   "id": "5ea6e3e1",
   "metadata": {},
   "outputs": [
    {
     "data": {
      "text/html": [
       "<div>\n",
       "<style scoped>\n",
       "    .dataframe tbody tr th:only-of-type {\n",
       "        vertical-align: middle;\n",
       "    }\n",
       "\n",
       "    .dataframe tbody tr th {\n",
       "        vertical-align: top;\n",
       "    }\n",
       "\n",
       "    .dataframe thead th {\n",
       "        text-align: right;\n",
       "    }\n",
       "</style>\n",
       "<table border=\"1\" class=\"dataframe\">\n",
       "  <thead>\n",
       "    <tr style=\"text-align: right;\">\n",
       "      <th></th>\n",
       "      <th>Unnamed: 0</th>\n",
       "      <th>text</th>\n",
       "      <th>Emotion</th>\n",
       "      <th>length</th>\n",
       "      <th>tokens</th>\n",
       "      <th>num_tokens</th>\n",
       "    </tr>\n",
       "  </thead>\n",
       "  <tbody>\n",
       "    <tr>\n",
       "      <th>839545</th>\n",
       "      <td>839545</td>\n",
       "      <td>I FEEL THAT I MUST CONFESS EVEN THOUGH IT KILL...</td>\n",
       "      <td>NEUTRAL</td>\n",
       "      <td>97</td>\n",
       "      <td>[feel, must, confess, even, though, kills, say...</td>\n",
       "      <td>9</td>\n",
       "    </tr>\n",
       "    <tr>\n",
       "      <th>839546</th>\n",
       "      <td>839546</td>\n",
       "      <td>I DON T KNOW WHY TODAY I FEEL LIKE IT LOOKS VE...</td>\n",
       "      <td>NEUTRAL</td>\n",
       "      <td>155</td>\n",
       "      <td>[know, today, feel, like, looks, cool, know, s...</td>\n",
       "      <td>16</td>\n",
       "    </tr>\n",
       "    <tr>\n",
       "      <th>839547</th>\n",
       "      <td>839547</td>\n",
       "      <td>I DON T EVEN FEEL LIKE I FULLY RESOLVED IT BUT...</td>\n",
       "      <td>NEUTRAL</td>\n",
       "      <td>70</td>\n",
       "      <td>[even, feel, like, fully, resolved, felt, righ...</td>\n",
       "      <td>8</td>\n",
       "    </tr>\n",
       "    <tr>\n",
       "      <th>839548</th>\n",
       "      <td>839548</td>\n",
       "      <td>I FEEL LIKE I HAVE BEEN NEGLECTING YOU MY FAIT...</td>\n",
       "      <td>NEUTRAL</td>\n",
       "      <td>59</td>\n",
       "      <td>[feel, like, neglecting, faithful, reader]</td>\n",
       "      <td>5</td>\n",
       "    </tr>\n",
       "    <tr>\n",
       "      <th>839549</th>\n",
       "      <td>839549</td>\n",
       "      <td>I CRY AND FEEL A SENSE OF LOSS WHEN MY PATIENT...</td>\n",
       "      <td>NEUTRAL</td>\n",
       "      <td>241</td>\n",
       "      <td>[cry, feel, sense, loss, patients, die, helped...</td>\n",
       "      <td>19</td>\n",
       "    </tr>\n",
       "    <tr>\n",
       "      <th>839550</th>\n",
       "      <td>839550</td>\n",
       "      <td>I FEEL LIKE TELLING THESE HORNY DEVILS TO FIND...</td>\n",
       "      <td>NEUTRAL</td>\n",
       "      <td>132</td>\n",
       "      <td>[feel, like, telling, horny, devils, find, sit...</td>\n",
       "      <td>14</td>\n",
       "    </tr>\n",
       "    <tr>\n",
       "      <th>839551</th>\n",
       "      <td>839551</td>\n",
       "      <td>I BEGAN TO REALIZE THAT WHEN I WAS FEELING AGI...</td>\n",
       "      <td>NEUTRAL</td>\n",
       "      <td>111</td>\n",
       "      <td>[began, realize, feeling, agitated, restless, ...</td>\n",
       "      <td>9</td>\n",
       "    </tr>\n",
       "    <tr>\n",
       "      <th>839552</th>\n",
       "      <td>839552</td>\n",
       "      <td>I FEEL VERY CURIOUS BE WHY PREVIOUS EARLY DAWN...</td>\n",
       "      <td>NEUTRAL</td>\n",
       "      <td>90</td>\n",
       "      <td>[feel, curious, previous, early, dawn, time, s...</td>\n",
       "      <td>8</td>\n",
       "    </tr>\n",
       "    <tr>\n",
       "      <th>839553</th>\n",
       "      <td>839553</td>\n",
       "      <td>I FEEL THAT BECUASE OF THE TYRANICAL NATURE OF...</td>\n",
       "      <td>NEUTRAL</td>\n",
       "      <td>222</td>\n",
       "      <td>[feel, becuase, tyranical, nature, government,...</td>\n",
       "      <td>22</td>\n",
       "    </tr>\n",
       "    <tr>\n",
       "      <th>839554</th>\n",
       "      <td>839554</td>\n",
       "      <td>I THINK THAT AFTER I HAD SPENT SOME TIME INVES...</td>\n",
       "      <td>NEUTRAL</td>\n",
       "      <td>132</td>\n",
       "      <td>[think, spent, time, investigating, surroundin...</td>\n",
       "      <td>10</td>\n",
       "    </tr>\n",
       "  </tbody>\n",
       "</table>\n",
       "</div>"
      ],
      "text/plain": [
       "        Unnamed: 0                                               text  \\\n",
       "839545      839545  I FEEL THAT I MUST CONFESS EVEN THOUGH IT KILL...   \n",
       "839546      839546  I DON T KNOW WHY TODAY I FEEL LIKE IT LOOKS VE...   \n",
       "839547      839547  I DON T EVEN FEEL LIKE I FULLY RESOLVED IT BUT...   \n",
       "839548      839548  I FEEL LIKE I HAVE BEEN NEGLECTING YOU MY FAIT...   \n",
       "839549      839549  I CRY AND FEEL A SENSE OF LOSS WHEN MY PATIENT...   \n",
       "839550      839550  I FEEL LIKE TELLING THESE HORNY DEVILS TO FIND...   \n",
       "839551      839551  I BEGAN TO REALIZE THAT WHEN I WAS FEELING AGI...   \n",
       "839552      839552  I FEEL VERY CURIOUS BE WHY PREVIOUS EARLY DAWN...   \n",
       "839553      839553  I FEEL THAT BECUASE OF THE TYRANICAL NATURE OF...   \n",
       "839554      839554  I THINK THAT AFTER I HAD SPENT SOME TIME INVES...   \n",
       "\n",
       "        Emotion  length                                             tokens  \\\n",
       "839545  NEUTRAL      97  [feel, must, confess, even, though, kills, say...   \n",
       "839546  NEUTRAL     155  [know, today, feel, like, looks, cool, know, s...   \n",
       "839547  NEUTRAL      70  [even, feel, like, fully, resolved, felt, righ...   \n",
       "839548  NEUTRAL      59         [feel, like, neglecting, faithful, reader]   \n",
       "839549  NEUTRAL     241  [cry, feel, sense, loss, patients, die, helped...   \n",
       "839550  NEUTRAL     132  [feel, like, telling, horny, devils, find, sit...   \n",
       "839551  NEUTRAL     111  [began, realize, feeling, agitated, restless, ...   \n",
       "839552  NEUTRAL      90  [feel, curious, previous, early, dawn, time, s...   \n",
       "839553  NEUTRAL     222  [feel, becuase, tyranical, nature, government,...   \n",
       "839554  NEUTRAL     132  [think, spent, time, investigating, surroundin...   \n",
       "\n",
       "        num_tokens  \n",
       "839545           9  \n",
       "839546          16  \n",
       "839547           8  \n",
       "839548           5  \n",
       "839549          19  \n",
       "839550          14  \n",
       "839551           9  \n",
       "839552           8  \n",
       "839553          22  \n",
       "839554          10  "
      ]
     },
     "execution_count": 74,
     "metadata": {},
     "output_type": "execute_result"
    }
   ],
   "source": [
    "df['num_tokens'] = df['tokens'].map(len)\n",
    "df.tail(10) #prints last 10 rows of the dataframe"
   ]
  },
  {
   "cell_type": "code",
   "execution_count": 75,
   "id": "d6ea8f6a",
   "metadata": {},
   "outputs": [
    {
     "name": "stdout",
     "output_type": "stream",
     "text": [
      "[('feel', 583925), ('feeling', 270334), ('like', 148936), ('im', 124267), ('really', 52047)]\n"
     ]
    }
   ],
   "source": [
    "from collections import Counter\n",
    "counter = Counter()\n",
    "df['tokens'].map(counter.update)\n",
    "print(counter.most_common(5))"
   ]
  },
  {
   "cell_type": "code",
   "execution_count": 76,
   "id": "c05adf5e",
   "metadata": {},
   "outputs": [
    {
     "data": {
      "text/html": [
       "<div>\n",
       "<style scoped>\n",
       "    .dataframe tbody tr th:only-of-type {\n",
       "        vertical-align: middle;\n",
       "    }\n",
       "\n",
       "    .dataframe tbody tr th {\n",
       "        vertical-align: top;\n",
       "    }\n",
       "\n",
       "    .dataframe thead th {\n",
       "        text-align: right;\n",
       "    }\n",
       "</style>\n",
       "<table border=\"1\" class=\"dataframe\">\n",
       "  <thead>\n",
       "    <tr style=\"text-align: right;\">\n",
       "      <th></th>\n",
       "      <th>freq</th>\n",
       "    </tr>\n",
       "    <tr>\n",
       "      <th>token</th>\n",
       "      <th></th>\n",
       "    </tr>\n",
       "  </thead>\n",
       "  <tbody>\n",
       "    <tr>\n",
       "      <th>feel</th>\n",
       "      <td>583925</td>\n",
       "    </tr>\n",
       "    <tr>\n",
       "      <th>feeling</th>\n",
       "      <td>270334</td>\n",
       "    </tr>\n",
       "    <tr>\n",
       "      <th>like</th>\n",
       "      <td>148936</td>\n",
       "    </tr>\n",
       "    <tr>\n",
       "      <th>im</th>\n",
       "      <td>124267</td>\n",
       "    </tr>\n",
       "    <tr>\n",
       "      <th>really</th>\n",
       "      <td>52047</td>\n",
       "    </tr>\n",
       "    <tr>\n",
       "      <th>know</th>\n",
       "      <td>47847</td>\n",
       "    </tr>\n",
       "    <tr>\n",
       "      <th>time</th>\n",
       "      <td>42878</td>\n",
       "    </tr>\n",
       "    <tr>\n",
       "      <th>get</th>\n",
       "      <td>39434</td>\n",
       "    </tr>\n",
       "    <tr>\n",
       "      <th>little</th>\n",
       "      <td>38712</td>\n",
       "    </tr>\n",
       "    <tr>\n",
       "      <th>people</th>\n",
       "      <td>36515</td>\n",
       "    </tr>\n",
       "  </tbody>\n",
       "</table>\n",
       "</div>"
      ],
      "text/plain": [
       "           freq\n",
       "token          \n",
       "feel     583925\n",
       "feeling  270334\n",
       "like     148936\n",
       "im       124267\n",
       "really    52047\n",
       "know      47847\n",
       "time      42878\n",
       "get       39434\n",
       "little    38712\n",
       "people    36515"
      ]
     },
     "execution_count": 76,
     "metadata": {},
     "output_type": "execute_result"
    }
   ],
   "source": [
    "freq_df = pd.DataFrame.from_dict(counter, orient='index', columns=['freq']) #creating a dataframe freq_df\n",
    "freq_df = freq_df.query('freq >= 1') #filters out tokens with less than 1 frequency\n",
    "freq_df.index.name ='token'\n",
    "freq_df = freq_df.sort_values('freq', ascending=False) #sorts the dataframe in descending order\n",
    "freq_df.head(10) #displays top 10 rows in the dataframe"
   ]
  },
  {
   "cell_type": "code",
   "execution_count": 77,
   "id": "825bec26",
   "metadata": {},
   "outputs": [
    {
     "data": {
      "text/html": [
       "<div>\n",
       "<style scoped>\n",
       "    .dataframe tbody tr th:only-of-type {\n",
       "        vertical-align: middle;\n",
       "    }\n",
       "\n",
       "    .dataframe tbody tr th {\n",
       "        vertical-align: top;\n",
       "    }\n",
       "\n",
       "    .dataframe thead th {\n",
       "        text-align: right;\n",
       "    }\n",
       "</style>\n",
       "<table border=\"1\" class=\"dataframe\">\n",
       "  <thead>\n",
       "    <tr style=\"text-align: right;\">\n",
       "      <th></th>\n",
       "      <th>freq</th>\n",
       "    </tr>\n",
       "  </thead>\n",
       "  <tbody>\n",
       "    <tr>\n",
       "      <th>count</th>\n",
       "      <td>75150.000000</td>\n",
       "    </tr>\n",
       "    <tr>\n",
       "      <th>mean</th>\n",
       "      <td>104.528583</td>\n",
       "    </tr>\n",
       "    <tr>\n",
       "      <th>std</th>\n",
       "      <td>2585.174237</td>\n",
       "    </tr>\n",
       "    <tr>\n",
       "      <th>min</th>\n",
       "      <td>2.000000</td>\n",
       "    </tr>\n",
       "    <tr>\n",
       "      <th>25%</th>\n",
       "      <td>2.000000</td>\n",
       "    </tr>\n",
       "    <tr>\n",
       "      <th>50%</th>\n",
       "      <td>4.000000</td>\n",
       "    </tr>\n",
       "    <tr>\n",
       "      <th>75%</th>\n",
       "      <td>13.000000</td>\n",
       "    </tr>\n",
       "    <tr>\n",
       "      <th>max</th>\n",
       "      <td>583925.000000</td>\n",
       "    </tr>\n",
       "  </tbody>\n",
       "</table>\n",
       "</div>"
      ],
      "text/plain": [
       "                freq\n",
       "count   75150.000000\n",
       "mean      104.528583\n",
       "std      2585.174237\n",
       "min         2.000000\n",
       "25%         2.000000\n",
       "50%         4.000000\n",
       "75%        13.000000\n",
       "max    583925.000000"
      ]
     },
     "execution_count": 77,
     "metadata": {},
     "output_type": "execute_result"
    }
   ],
   "source": [
    "freq_df.describe()"
   ]
  },
  {
   "cell_type": "code",
   "execution_count": 78,
   "id": "e65a416a",
   "metadata": {},
   "outputs": [
    {
     "data": {
      "text/plain": [
       "[Text(0.5, 0, 'Frequency'), Text(0, 0.5, 'Token'), Text(0.5, 1.0, 'Top Words')]"
      ]
     },
     "execution_count": 78,
     "metadata": {},
     "output_type": "execute_result"
    },
    {
     "data": {
      "image/png": "[encoded data removed]",
      "text/plain": [
       "<Figure size 1200x800 with 1 Axes>"
      ]
     },
     "metadata": {},
     "output_type": "display_data"
    }
   ],
   "source": [
    "ax = freq_df.head(15).plot(kind='barh', width=0.95, figsize=(12,8))\n",
    "ax.invert_yaxis()\n",
    "ax.set(xlabel='Frequency', ylabel='Token', title='Top Words')"
   ]
  },
  {
   "cell_type": "code",
   "execution_count": 79,
   "id": "fb2fd40a",
   "metadata": {},
   "outputs": [
    {
     "name": "stdout",
     "output_type": "stream",
     "text": [
      "Requirement already satisfied: WordCloud in c:\\users\\ruchitha\\anaconda3\\lib\\site-packages (1.9.3)\n",
      "Requirement already satisfied: numpy>=1.6.1 in c:\\users\\ruchitha\\anaconda3\\lib\\site-packages (from WordCloud) (1.24.3)\n",
      "Requirement already satisfied: pillow in c:\\users\\ruchitha\\anaconda3\\lib\\site-packages (from WordCloud) (9.4.0)\n",
      "Requirement already satisfied: matplotlib in c:\\users\\ruchitha\\anaconda3\\lib\\site-packages (from WordCloud) (3.7.2)\n",
      "Requirement already satisfied: contourpy>=1.0.1 in c:\\users\\ruchitha\\anaconda3\\lib\\site-packages (from matplotlib->WordCloud) (1.0.5)\n",
      "Requirement already satisfied: cycler>=0.10 in c:\\users\\ruchitha\\anaconda3\\lib\\site-packages (from matplotlib->WordCloud) (0.11.0)\n",
      "Requirement already satisfied: fonttools>=4.22.0 in c:\\users\\ruchitha\\anaconda3\\lib\\site-packages (from matplotlib->WordCloud) (4.25.0)\n",
      "Requirement already satisfied: kiwisolver>=1.0.1 in c:\\users\\ruchitha\\anaconda3\\lib\\site-packages (from matplotlib->WordCloud) (1.4.4)\n",
      "Requirement already satisfied: packaging>=20.0 in c:\\users\\ruchitha\\anaconda3\\lib\\site-packages (from matplotlib->WordCloud) (23.1)\n",
      "Requirement already satisfied: pyparsing<3.1,>=2.3.1 in c:\\users\\ruchitha\\anaconda3\\lib\\site-packages (from matplotlib->WordCloud) (3.0.9)\n",
      "Requirement already satisfied: python-dateutil>=2.7 in c:\\users\\ruchitha\\anaconda3\\lib\\site-packages (from matplotlib->WordCloud) (2.8.2)\n",
      "Requirement already satisfied: six>=1.5 in c:\\users\\ruchitha\\anaconda3\\lib\\site-packages (from python-dateutil>=2.7->matplotlib->WordCloud) (1.16.0)\n",
      "Note: you may need to restart the kernel to use updated packages.\n"
     ]
    }
   ],
   "source": [
    "pip install WordCloud"
   ]
  },
  {
   "cell_type": "code",
   "execution_count": 81,
   "id": "e8a2f262",
   "metadata": {},
   "outputs": [
    {
     "data": {
      "text/plain": [
       "(-0.5, 399.5, 199.5, -0.5)"
      ]
     },
     "execution_count": 81,
     "metadata": {},
     "output_type": "execute_result"
    },
    {
     "data": {
      "image/png": "[encoded data removed]",
      "text/plain": [
       "<Figure size 1400x700 with 1 Axes>"
      ]
     },
     "metadata": {},
     "output_type": "display_data"
    }
   ],
   "source": [
    "from wordcloud import WordCloud\n",
    "from matplotlib import pyplot as plt\n",
    "\n",
    "text = df.query(\"Emotion=='ANGER'\")['text'].values[0]\n",
    "plt.figure(figsize=(14, 7)) ###\n",
    "wc = WordCloud(max_words=100, stopwords=stopwords)\n",
    "wc.generate(text)\n",
    "plt.imshow(wc, interpolation='bilinear')\n",
    "plt.axis(\"off\")"
   ]
  },
  {
   "cell_type": "markdown",
   "id": "42258b65",
   "metadata": {},
   "source": [
    "### 4. Pick 5 random strings which we will encounter in our day-to-day life "
   ]
  },
  {
   "cell_type": "code",
   "execution_count": 63,
   "id": "8af4abc3",
   "metadata": {},
   "outputs": [
    {
     "name": "stdout",
     "output_type": "stream",
     "text": [
      "numbers found are:\n",
      "123.455.6789\n"
     ]
    }
   ],
   "source": [
    "import re\n",
    "text = \"Got hurt in a pinch, call Finch 123.455.6789\"\n",
    "pattern = r'\\b\\d{3}[-.]\\d{3}[-.]\\d{4}\\b'\n",
    "search = re.findall(pattern, text)\n",
    "print(\"numbers found are:\")\n",
    "for search in search:\n",
    "    print(search)"
   ]
  },
  {
   "cell_type": "code",
   "execution_count": 64,
   "id": "9e09450c",
   "metadata": {},
   "outputs": [
    {
     "name": "stdout",
     "output_type": "stream",
     "text": [
      "['48', '6']\n"
     ]
    }
   ],
   "source": [
    "import re\n",
    "text = 'Who doesnt know Ellie age is around 48 with height 6 feet'\n",
    "pattern = '\\d+'\n",
    "result = re.findall(pattern, text) \n",
    "print(result)"
   ]
  },
  {
   "cell_type": "code",
   "execution_count": 65,
   "id": "2147ae99",
   "metadata": {},
   "outputs": [
    {
     "name": "stdout",
     "output_type": "stream",
     "text": [
      "['Who doesnt know Ellie age is around ', ' with height ', ' feet']\n"
     ]
    }
   ],
   "source": [
    "import re\n",
    "text=\"Who doesnt know Ellie age is around 45 with height 6 feet\"\n",
    "pattern = '\\d+'\n",
    "result = re.split(pattern, text) \n",
    "print(result)"
   ]
  },
  {
   "cell_type": "code",
   "execution_count": 66,
   "id": "9d6ff81d",
   "metadata": {},
   "outputs": [
    {
     "name": "stdout",
     "output_type": "stream",
     "text": [
      "Strong Password!\n"
     ]
    }
   ],
   "source": [
    "import re\n",
    "Password = \"Qwerty@09438!\"\n",
    "pattern = r'(?=.*[a-zA-Z])(?=.*[0-9])(?=.*[!@#$%^&*])[a-zA-Z0-9!@#$%^&*]{8,}'\n",
    "result = re.search(pattern, Password)\n",
    "if result:\n",
    "    print(\"Strong Password!\")\n",
    "else:\n",
    "    print(\"Invalid Password!\")"
   ]
  },
  {
   "cell_type": "code",
   "execution_count": 68,
   "id": "1530a6da",
   "metadata": {},
   "outputs": [
    {
     "name": "stdout",
     "output_type": "stream",
     "text": [
      "Found result:\n",
      "#at\n",
      "#office\n",
      "#11AM\n",
      "#3rd\n"
     ]
    }
   ],
   "source": [
    "import re\n",
    "text = \"Appointment reminder #at #office at #11AM. This is #3rd time to book an appointment\"\n",
    "pattern = r'#\\w+'\n",
    "result = re.findall(pattern, text)\n",
    "print(\"Found result:\")\n",
    "for results in result:\n",
    "    print(results)"
   ]
  },
  {
   "cell_type": "markdown",
   "id": "2f470061",
   "metadata": {},
   "source": [
    "### 5. Sentiment analysis"
   ]
  },
  {
   "cell_type": "code",
   "execution_count": 1,
   "id": "22530bc4",
   "metadata": {},
   "outputs": [
    {
     "name": "stdout",
     "output_type": "stream",
     "text": [
      "Requirement already satisfied: praw in c:\\users\\ruchitha\\anaconda3\\lib\\site-packages (7.7.1)Note: you may need to restart the kernel to use updated packages.\n",
      "\n",
      "Requirement already satisfied: prawcore<3,>=2.1 in c:\\users\\ruchitha\\anaconda3\\lib\\site-packages (from praw) (2.4.0)\n",
      "Requirement already satisfied: update-checker>=0.18 in c:\\users\\ruchitha\\anaconda3\\lib\\site-packages (from praw) (0.18.0)\n",
      "Requirement already satisfied: websocket-client>=0.54.0 in c:\\users\\ruchitha\\anaconda3\\lib\\site-packages (from praw) (0.58.0)\n",
      "Requirement already satisfied: requests<3.0,>=2.6.0 in c:\\users\\ruchitha\\anaconda3\\lib\\site-packages (from prawcore<3,>=2.1->praw) (2.31.0)\n",
      "Requirement already satisfied: six in c:\\users\\ruchitha\\anaconda3\\lib\\site-packages (from websocket-client>=0.54.0->praw) (1.16.0)\n",
      "Requirement already satisfied: charset-normalizer<4,>=2 in c:\\users\\ruchitha\\anaconda3\\lib\\site-packages (from requests<3.0,>=2.6.0->prawcore<3,>=2.1->praw) (2.0.4)\n",
      "Requirement already satisfied: idna<4,>=2.5 in c:\\users\\ruchitha\\anaconda3\\lib\\site-packages (from requests<3.0,>=2.6.0->prawcore<3,>=2.1->praw) (3.4)\n",
      "Requirement already satisfied: urllib3<3,>=1.21.1 in c:\\users\\ruchitha\\anaconda3\\lib\\site-packages (from requests<3.0,>=2.6.0->prawcore<3,>=2.1->praw) (1.26.16)\n",
      "Requirement already satisfied: certifi>=2017.4.17 in c:\\users\\ruchitha\\anaconda3\\lib\\site-packages (from requests<3.0,>=2.6.0->prawcore<3,>=2.1->praw) (2023.7.22)\n"
     ]
    }
   ],
   "source": [
    "pip install praw"
   ]
  },
  {
   "cell_type": "markdown",
   "id": "760cccfc",
   "metadata": {},
   "source": [
    "#### Initializing a PRAW Reddit instance with client ID, client secret, and a user agent string"
   ]
  },
  {
   "cell_type": "code",
   "execution_count": 2,
   "id": "7b0ca907",
   "metadata": {},
   "outputs": [],
   "source": [
    "import praw\n",
    "\n",
    "user_agent = \"Reddit_Scrapper 1.0 by /u/FeatureChoice5036\"\n",
    "reddit = praw.Reddit(\n",
    "    client_id=\"bV6KhjbL9qzNUKy0Oke3Hw\",\n",
    "    client_secret=\"AbBk1XxdlvzjvVEijs7R4OUPCIN78g\",\n",
    "    user_agent=user_agent\n",
    ")"
   ]
  },
  {
   "cell_type": "code",
   "execution_count": 3,
   "id": "7702f727",
   "metadata": {},
   "outputs": [],
   "source": [
    "import pandas as pd\n",
    "import numpy as np\n",
    "import re"
   ]
  },
  {
   "cell_type": "markdown",
   "id": "9c1e17c5",
   "metadata": {},
   "source": [
    "#### Iterating through the submissions in the \"Connecticut\" subreddit using PRAW (Python Reddit API Wrapper) and printing various attributes of each submission"
   ]
  },
  {
   "cell_type": "code",
   "execution_count": 4,
   "id": "1896d336",
   "metadata": {},
   "outputs": [
    {
     "name": "stdout",
     "output_type": "stream",
     "text": [
      "Moving to CT? Ask your questions here\n",
      "1c9e9ly\n",
      "AutoModerator\n",
      "1713693677.0\n",
      "7\n",
      "0.74\n",
      "https://www.reddit.com/r/Connecticut/comments/1c9e9ly/moving_to_ct_ask_your_questions_here/\n",
      "0\n"
     ]
    }
   ],
   "source": [
    "headlines = set()\n",
    "for submission in reddit.subreddit(\"Connecticut\").hot(limit=None):\n",
    "    print(submission.title)#Subreddit Title\n",
    "    print(submission.id) #ID\n",
    "    print(submission.author) #Author of the subreddit\n",
    "    print(submission.created_utc) #Date and time being created\n",
    "    print(submission.score) # Average Score\n",
    "    print(submission.upvote_ratio) # Upvote ratio\n",
    "    print(submission.url) # Like to the Subreddit\n",
    "    break\n",
    "    headlines.add(submission.title)\n",
    "print(len(headlines))"
   ]
  },
  {
   "cell_type": "markdown",
   "id": "fd535b31",
   "metadata": {},
   "source": [
    "#### collects the titles of submissions in the \"Connecticut\" subreddit without duplicates by adding them to a set named headlines"
   ]
  },
  {
   "cell_type": "code",
   "execution_count": 95,
   "id": "448686fb",
   "metadata": {},
   "outputs": [
    {
     "name": "stdout",
     "output_type": "stream",
     "text": [
      "971\n"
     ]
    }
   ],
   "source": [
    "headlines = set()\n",
    "for submission in reddit.subreddit(\"Connecticut\").hot(limit=None):\n",
    "    headlines.add(submission.title)\n",
    "print(len(headlines))"
   ]
  },
  {
   "cell_type": "markdown",
   "id": "03c1d493",
   "metadata": {},
   "source": [
    "#### creates a DataFrame from the set of headlines collected"
   ]
  },
  {
   "cell_type": "code",
   "execution_count": 96,
   "id": "636a1dcb",
   "metadata": {},
   "outputs": [
    {
     "data": {
      "text/html": [
       "<div>\n",
       "<style scoped>\n",
       "    .dataframe tbody tr th:only-of-type {\n",
       "        vertical-align: middle;\n",
       "    }\n",
       "\n",
       "    .dataframe tbody tr th {\n",
       "        vertical-align: top;\n",
       "    }\n",
       "\n",
       "    .dataframe thead th {\n",
       "        text-align: right;\n",
       "    }\n",
       "</style>\n",
       "<table border=\"1\" class=\"dataframe\">\n",
       "  <thead>\n",
       "    <tr style=\"text-align: right;\">\n",
       "      <th></th>\n",
       "      <th>0</th>\n",
       "    </tr>\n",
       "  </thead>\n",
       "  <tbody>\n",
       "    <tr>\n",
       "      <th>0</th>\n",
       "      <td>WATERWICK (2024) Trailer - I'm an indie filmma...</td>\n",
       "    </tr>\n",
       "    <tr>\n",
       "      <th>1</th>\n",
       "      <td>EARTHQUAKE!!</td>\n",
       "    </tr>\n",
       "    <tr>\n",
       "      <th>2</th>\n",
       "      <td>Club for 40+ couple</td>\n",
       "    </tr>\n",
       "    <tr>\n",
       "      <th>3</th>\n",
       "      <td>Exclusive Event Dinner with Chef Chrissy &amp; Jam...</td>\n",
       "    </tr>\n",
       "    <tr>\n",
       "      <th>4</th>\n",
       "      <td>'Where in Connecticut is ABI?' challenge. Thin...</td>\n",
       "    </tr>\n",
       "  </tbody>\n",
       "</table>\n",
       "</div>"
      ],
      "text/plain": [
       "                                                   0\n",
       "0  WATERWICK (2024) Trailer - I'm an indie filmma...\n",
       "1                                       EARTHQUAKE!!\n",
       "2                                Club for 40+ couple\n",
       "3  Exclusive Event Dinner with Chef Chrissy & Jam...\n",
       "4  'Where in Connecticut is ABI?' challenge. Thin..."
      ]
     },
     "execution_count": 96,
     "metadata": {},
     "output_type": "execute_result"
    }
   ],
   "source": [
    "connecticut_df = pd.DataFrame(headlines)\n",
    "connecticut_df.head()"
   ]
  },
  {
   "cell_type": "code",
   "execution_count": 97,
   "id": "76804645",
   "metadata": {},
   "outputs": [
    {
     "data": {
      "text/plain": [
       "Index(['text'], dtype='object')"
      ]
     },
     "execution_count": 97,
     "metadata": {},
     "output_type": "execute_result"
    }
   ],
   "source": [
    "connecticut_df.columns = ['text']\n",
    "connecticut_df.columns"
   ]
  },
  {
   "cell_type": "code",
   "execution_count": 99,
   "id": "4dd36e9d",
   "metadata": {},
   "outputs": [
    {
     "data": {
      "text/html": [
       "<div>\n",
       "<style scoped>\n",
       "    .dataframe tbody tr th:only-of-type {\n",
       "        vertical-align: middle;\n",
       "    }\n",
       "\n",
       "    .dataframe tbody tr th {\n",
       "        vertical-align: top;\n",
       "    }\n",
       "\n",
       "    .dataframe thead th {\n",
       "        text-align: right;\n",
       "    }\n",
       "</style>\n",
       "<table border=\"1\" class=\"dataframe\">\n",
       "  <thead>\n",
       "    <tr style=\"text-align: right;\">\n",
       "      <th></th>\n",
       "      <th>Titles</th>\n",
       "    </tr>\n",
       "  </thead>\n",
       "  <tbody>\n",
       "    <tr>\n",
       "      <th>0</th>\n",
       "      <td>WATERWICK (2024) Trailer - I'm an indie filmma...</td>\n",
       "    </tr>\n",
       "    <tr>\n",
       "      <th>1</th>\n",
       "      <td>EARTHQUAKE!!</td>\n",
       "    </tr>\n",
       "    <tr>\n",
       "      <th>2</th>\n",
       "      <td>Club for 40+ couple</td>\n",
       "    </tr>\n",
       "    <tr>\n",
       "      <th>3</th>\n",
       "      <td>Exclusive Event Dinner with Chef Chrissy &amp; Jam...</td>\n",
       "    </tr>\n",
       "    <tr>\n",
       "      <th>4</th>\n",
       "      <td>'Where in Connecticut is ABI?' challenge. Thin...</td>\n",
       "    </tr>\n",
       "  </tbody>\n",
       "</table>\n",
       "</div>"
      ],
      "text/plain": [
       "                                              Titles\n",
       "0  WATERWICK (2024) Trailer - I'm an indie filmma...\n",
       "1                                       EARTHQUAKE!!\n",
       "2                                Club for 40+ couple\n",
       "3  Exclusive Event Dinner with Chef Chrissy & Jam...\n",
       "4  'Where in Connecticut is ABI?' challenge. Thin..."
      ]
     },
     "execution_count": 99,
     "metadata": {},
     "output_type": "execute_result"
    }
   ],
   "source": [
    "connecticut_df.columns = ['Titles']\n",
    "connecticut_df.head()"
   ]
  },
  {
   "cell_type": "markdown",
   "id": "4e7de9c9",
   "metadata": {},
   "source": [
    "#### Checking duplicates in the Titles column of the dataframe"
   ]
  },
  {
   "cell_type": "code",
   "execution_count": 100,
   "id": "5c3578ef",
   "metadata": {},
   "outputs": [
    {
     "data": {
      "text/plain": [
       "0"
      ]
     },
     "execution_count": 100,
     "metadata": {},
     "output_type": "execute_result"
    }
   ],
   "source": [
    "connecticut_df.Titles.duplicated().sum() "
   ]
  },
  {
   "cell_type": "markdown",
   "id": "77e1a033",
   "metadata": {},
   "source": [
    "#### created a function cleanTxt() to remove various elements like mentions, hashtags, retweet tags, hyperlinks, and colons from the text"
   ]
  },
  {
   "cell_type": "code",
   "execution_count": 101,
   "id": "971ebdce",
   "metadata": {},
   "outputs": [
    {
     "data": {
      "text/html": [
       "<div>\n",
       "<style scoped>\n",
       "    .dataframe tbody tr th:only-of-type {\n",
       "        vertical-align: middle;\n",
       "    }\n",
       "\n",
       "    .dataframe tbody tr th {\n",
       "        vertical-align: top;\n",
       "    }\n",
       "\n",
       "    .dataframe thead th {\n",
       "        text-align: right;\n",
       "    }\n",
       "</style>\n",
       "<table border=\"1\" class=\"dataframe\">\n",
       "  <thead>\n",
       "    <tr style=\"text-align: right;\">\n",
       "      <th></th>\n",
       "      <th>Titles</th>\n",
       "    </tr>\n",
       "  </thead>\n",
       "  <tbody>\n",
       "    <tr>\n",
       "      <th>0</th>\n",
       "      <td>WATERWICK (2024) Trailer - I'm an indie filmma...</td>\n",
       "    </tr>\n",
       "    <tr>\n",
       "      <th>1</th>\n",
       "      <td>EARTHQUAKE!!</td>\n",
       "    </tr>\n",
       "    <tr>\n",
       "      <th>2</th>\n",
       "      <td>Club for 40+ couple</td>\n",
       "    </tr>\n",
       "    <tr>\n",
       "      <th>3</th>\n",
       "      <td>Exclusive Event Dinner with Chef Chrissy &amp; Jam...</td>\n",
       "    </tr>\n",
       "    <tr>\n",
       "      <th>4</th>\n",
       "      <td>'Where in Connecticut is ABI?' challenge. Thin...</td>\n",
       "    </tr>\n",
       "  </tbody>\n",
       "</table>\n",
       "</div>"
      ],
      "text/plain": [
       "                                              Titles\n",
       "0  WATERWICK (2024) Trailer - I'm an indie filmma...\n",
       "1                                       EARTHQUAKE!!\n",
       "2                                Club for 40+ couple\n",
       "3  Exclusive Event Dinner with Chef Chrissy & Jam...\n",
       "4  'Where in Connecticut is ABI?' challenge. Thin..."
      ]
     },
     "execution_count": 101,
     "metadata": {},
     "output_type": "execute_result"
    }
   ],
   "source": [
    "def cleanTxt(text):\n",
    "    text = re.sub(r'@[A-Za-z0-9]+', '', text) #Remove @mentions replace with blank\n",
    "    text = re.sub(r'#', '', text) #Remove the '#' symbol, replace with blank\n",
    "    text = re.sub(r'RT[\\s]+', '', text) #Removing RT, replace with blank\n",
    "    text = re.sub(r'https?:\\/\\/\\S+', '', text) #Remove the hyperlinks\n",
    "    text = re.sub(r':', '', text) # Remove :\n",
    "    \n",
    "    return text\n",
    "\n",
    "#Cleaning the text\n",
    "connecticut_df[\"Titles\"]= connecticut_df[\"Titles\"].apply(cleanTxt)\n",
    "\n",
    "#Show the clean text\n",
    "connecticut_df.head()"
   ]
  },
  {
   "cell_type": "markdown",
   "id": "f0d7866f",
   "metadata": {},
   "source": [
    "#### defined a function remove_emoji() that utilizes a regular expression pattern to match emojis and Unicode characters and replace them with an empty string"
   ]
  },
  {
   "cell_type": "code",
   "execution_count": 13,
   "id": "92c7fa7b",
   "metadata": {},
   "outputs": [
    {
     "data": {
      "text/html": [
       "<div>\n",
       "<style scoped>\n",
       "    .dataframe tbody tr th:only-of-type {\n",
       "        vertical-align: middle;\n",
       "    }\n",
       "\n",
       "    .dataframe tbody tr th {\n",
       "        vertical-align: top;\n",
       "    }\n",
       "\n",
       "    .dataframe thead th {\n",
       "        text-align: right;\n",
       "    }\n",
       "</style>\n",
       "<table border=\"1\" class=\"dataframe\">\n",
       "  <thead>\n",
       "    <tr style=\"text-align: right;\">\n",
       "      <th></th>\n",
       "      <th>Titles</th>\n",
       "    </tr>\n",
       "  </thead>\n",
       "  <tbody>\n",
       "    <tr>\n",
       "      <th>0</th>\n",
       "      <td>WATERWICK (2024) Trailer - I'm an indie filmma...</td>\n",
       "    </tr>\n",
       "    <tr>\n",
       "      <th>1</th>\n",
       "      <td>EARTHQUAKE!!</td>\n",
       "    </tr>\n",
       "    <tr>\n",
       "      <th>2</th>\n",
       "      <td>Club for 40+ couple</td>\n",
       "    </tr>\n",
       "    <tr>\n",
       "      <th>3</th>\n",
       "      <td>Exclusive Event Dinner with Chef Chrissy &amp; Jam...</td>\n",
       "    </tr>\n",
       "    <tr>\n",
       "      <th>4</th>\n",
       "      <td>'Where in Connecticut is ABI?' challenge. Thin...</td>\n",
       "    </tr>\n",
       "  </tbody>\n",
       "</table>\n",
       "</div>"
      ],
      "text/plain": [
       "                                              Titles\n",
       "0  WATERWICK (2024) Trailer - I'm an indie filmma...\n",
       "1                                       EARTHQUAKE!!\n",
       "2                                Club for 40+ couple\n",
       "3  Exclusive Event Dinner with Chef Chrissy & Jam...\n",
       "4  'Where in Connecticut is ABI?' challenge. Thin..."
      ]
     },
     "execution_count": 13,
     "metadata": {},
     "output_type": "execute_result"
    }
   ],
   "source": [
    "def remove_emoji(string):\n",
    "    emoji_pattern = re.compile(\"[\"\n",
    "                               u\"\\U0001F600-\\U0001F64F\"  # emoticons\n",
    "                               u\"\\U0001F300-\\U0001F5FF\"  # symbols & pictographs\n",
    "                               u\"\\U0001F680-\\U0001F6FF\"  # transport & map symbols\n",
    "                               u\"\\U0001F1E0-\\U0001F1FF\"  # flags (iOS)\n",
    "                               u\"\\U00002500-\\U00002BEF\"  # chinese char\n",
    "                               u\"\\U00002702-\\U000027B0\"\n",
    "                               u\"\\U00002702-\\U000027B0\"\n",
    "                               u\"\\U000024C2-\\U0001F251\"\n",
    "                               u\"\\U0001f926-\\U0001f937\"\n",
    "                               u\"\\U00010000-\\U0010ffff\"\n",
    "                               u\"\\u2640-\\u2642\"\n",
    "                               u\"\\u2600-\\u2B55\"\n",
    "                               u\"\\u200d\"\n",
    "                               u\"\\u23cf\"\n",
    "                               u\"\\u23e9\"\n",
    "                               u\"\\u231a\"\n",
    "                               u\"\\ufe0f\"  # dingbats\n",
    "                               u\"\\u3030\"\n",
    "                               \"]+\", flags=re.UNICODE)\n",
    "    return emoji_pattern.sub(r'', string)\n",
    "\n",
    "#Cleaning the text\n",
    "connecticut_df[\"Titles\"]= connecticut_df[\"Titles\"].apply(remove_emoji)\n",
    "\n",
    "#Show the clean text\n",
    "connecticut_df.head()"
   ]
  },
  {
   "cell_type": "code",
   "execution_count": 14,
   "id": "22abceb3",
   "metadata": {},
   "outputs": [
    {
     "name": "stdout",
     "output_type": "stream",
     "text": [
      "Requirement already satisfied: textblob in c:\\users\\ruchitha\\anaconda3\\lib\\site-packages (0.18.0.post0)\n",
      "Requirement already satisfied: nltk>=3.8 in c:\\users\\ruchitha\\anaconda3\\lib\\site-packages (from textblob) (3.8.1)\n",
      "Requirement already satisfied: click in c:\\users\\ruchitha\\anaconda3\\lib\\site-packages (from nltk>=3.8->textblob) (8.0.4)\n",
      "Requirement already satisfied: joblib in c:\\users\\ruchitha\\anaconda3\\lib\\site-packages (from nltk>=3.8->textblob) (1.2.0)\n",
      "Requirement already satisfied: regex>=2021.8.3 in c:\\users\\ruchitha\\anaconda3\\lib\\site-packages (from nltk>=3.8->textblob) (2022.7.9)\n",
      "Requirement already satisfied: tqdm in c:\\users\\ruchitha\\anaconda3\\lib\\site-packages (from nltk>=3.8->textblob) (4.65.0)\n",
      "Requirement already satisfied: colorama in c:\\users\\ruchitha\\anaconda3\\lib\\site-packages (from click->nltk>=3.8->textblob) (0.4.6)\n",
      "Note: you may need to restart the kernel to use updated packages.\n"
     ]
    }
   ],
   "source": [
    "pip install textblob"
   ]
  },
  {
   "cell_type": "code",
   "execution_count": 15,
   "id": "55885131",
   "metadata": {},
   "outputs": [],
   "source": [
    "from textblob import TextBlob\n",
    "from wordcloud import WordCloud, STOPWORDS"
   ]
  },
  {
   "cell_type": "markdown",
   "id": "fee90df6",
   "metadata": {},
   "source": [
    "#### calculates the subjectivity and polarity of the text in the \"text\" column of DataFrame connecticut_df using TextBlob and add the results as new columns"
   ]
  },
  {
   "cell_type": "code",
   "execution_count": 17,
   "id": "748dd1ee",
   "metadata": {},
   "outputs": [
    {
     "data": {
      "text/html": [
       "<div>\n",
       "<style scoped>\n",
       "    .dataframe tbody tr th:only-of-type {\n",
       "        vertical-align: middle;\n",
       "    }\n",
       "\n",
       "    .dataframe tbody tr th {\n",
       "        vertical-align: top;\n",
       "    }\n",
       "\n",
       "    .dataframe thead th {\n",
       "        text-align: right;\n",
       "    }\n",
       "</style>\n",
       "<table border=\"1\" class=\"dataframe\">\n",
       "  <thead>\n",
       "    <tr style=\"text-align: right;\">\n",
       "      <th></th>\n",
       "      <th>Titles</th>\n",
       "      <th>Subjectivity</th>\n",
       "      <th>Polarity</th>\n",
       "    </tr>\n",
       "  </thead>\n",
       "  <tbody>\n",
       "    <tr>\n",
       "      <th>0</th>\n",
       "      <td>WATERWICK (2024) Trailer - I'm an indie filmma...</td>\n",
       "      <td>0.262626</td>\n",
       "      <td>0.128788</td>\n",
       "    </tr>\n",
       "    <tr>\n",
       "      <th>1</th>\n",
       "      <td>EARTHQUAKE!!</td>\n",
       "      <td>0.000000</td>\n",
       "      <td>0.000000</td>\n",
       "    </tr>\n",
       "    <tr>\n",
       "      <th>2</th>\n",
       "      <td>Club for 40+ couple</td>\n",
       "      <td>0.000000</td>\n",
       "      <td>0.000000</td>\n",
       "    </tr>\n",
       "    <tr>\n",
       "      <th>3</th>\n",
       "      <td>Exclusive Event Dinner with Chef Chrissy &amp; Jam...</td>\n",
       "      <td>0.000000</td>\n",
       "      <td>0.000000</td>\n",
       "    </tr>\n",
       "    <tr>\n",
       "      <th>4</th>\n",
       "      <td>'Where in Connecticut is ABI?' challenge. Thin...</td>\n",
       "      <td>0.000000</td>\n",
       "      <td>0.000000</td>\n",
       "    </tr>\n",
       "  </tbody>\n",
       "</table>\n",
       "</div>"
      ],
      "text/plain": [
       "                                              Titles  Subjectivity  Polarity\n",
       "0  WATERWICK (2024) Trailer - I'm an indie filmma...      0.262626  0.128788\n",
       "1                                       EARTHQUAKE!!      0.000000  0.000000\n",
       "2                                Club for 40+ couple      0.000000  0.000000\n",
       "3  Exclusive Event Dinner with Chef Chrissy & Jam...      0.000000  0.000000\n",
       "4  'Where in Connecticut is ABI?' challenge. Thin...      0.000000  0.000000"
      ]
     },
     "execution_count": 17,
     "metadata": {},
     "output_type": "execute_result"
    }
   ],
   "source": [
    "def getSubjectivity(text):\n",
    "    return TextBlob(text).sentiment.subjectivity\n",
    "\n",
    "#Create a function to get Polarity\n",
    "def getPolarity(text):\n",
    "    return TextBlob(text).sentiment.polarity\n",
    "\n",
    "#Now we create a new column for what we just did and add it to the Tweet_df dataframe\n",
    "connecticut_df['Subjectivity'] = connecticut_df['Titles'].apply(getSubjectivity)\n",
    "connecticut_df['Polarity'] = connecticut_df['Titles'].apply(getPolarity)\n",
    "\n",
    "#Now display data\n",
    "connecticut_df.head()"
   ]
  },
  {
   "cell_type": "markdown",
   "id": "0415ab70",
   "metadata": {},
   "source": [
    "#### categorize the polarity scores into different insight categories: \"Negative\", \"Neutral\", and \"Positive\""
   ]
  },
  {
   "cell_type": "code",
   "execution_count": 18,
   "id": "43b44cec",
   "metadata": {},
   "outputs": [
    {
     "data": {
      "text/html": [
       "<div>\n",
       "<style scoped>\n",
       "    .dataframe tbody tr th:only-of-type {\n",
       "        vertical-align: middle;\n",
       "    }\n",
       "\n",
       "    .dataframe tbody tr th {\n",
       "        vertical-align: top;\n",
       "    }\n",
       "\n",
       "    .dataframe thead th {\n",
       "        text-align: right;\n",
       "    }\n",
       "</style>\n",
       "<table border=\"1\" class=\"dataframe\">\n",
       "  <thead>\n",
       "    <tr style=\"text-align: right;\">\n",
       "      <th></th>\n",
       "      <th>Titles</th>\n",
       "      <th>Subjectivity</th>\n",
       "      <th>Polarity</th>\n",
       "      <th>Insight</th>\n",
       "    </tr>\n",
       "  </thead>\n",
       "  <tbody>\n",
       "    <tr>\n",
       "      <th>0</th>\n",
       "      <td>WATERWICK (2024) Trailer - I'm an indie filmma...</td>\n",
       "      <td>0.262626</td>\n",
       "      <td>0.128788</td>\n",
       "      <td>Positive</td>\n",
       "    </tr>\n",
       "    <tr>\n",
       "      <th>1</th>\n",
       "      <td>EARTHQUAKE!!</td>\n",
       "      <td>0.000000</td>\n",
       "      <td>0.000000</td>\n",
       "      <td>Neutral</td>\n",
       "    </tr>\n",
       "    <tr>\n",
       "      <th>2</th>\n",
       "      <td>Club for 40+ couple</td>\n",
       "      <td>0.000000</td>\n",
       "      <td>0.000000</td>\n",
       "      <td>Neutral</td>\n",
       "    </tr>\n",
       "    <tr>\n",
       "      <th>3</th>\n",
       "      <td>Exclusive Event Dinner with Chef Chrissy &amp; Jam...</td>\n",
       "      <td>0.000000</td>\n",
       "      <td>0.000000</td>\n",
       "      <td>Neutral</td>\n",
       "    </tr>\n",
       "    <tr>\n",
       "      <th>4</th>\n",
       "      <td>'Where in Connecticut is ABI?' challenge. Thin...</td>\n",
       "      <td>0.000000</td>\n",
       "      <td>0.000000</td>\n",
       "      <td>Neutral</td>\n",
       "    </tr>\n",
       "    <tr>\n",
       "      <th>5</th>\n",
       "      <td>Gample Pavilion Floor - Go Huskies!!!</td>\n",
       "      <td>0.000000</td>\n",
       "      <td>0.000000</td>\n",
       "      <td>Neutral</td>\n",
       "    </tr>\n",
       "    <tr>\n",
       "      <th>6</th>\n",
       "      <td>Hello kitty</td>\n",
       "      <td>0.000000</td>\n",
       "      <td>0.000000</td>\n",
       "      <td>Neutral</td>\n",
       "    </tr>\n",
       "    <tr>\n",
       "      <th>7</th>\n",
       "      <td>Want to buy a Connecticut Final Four throwback...</td>\n",
       "      <td>1.000000</td>\n",
       "      <td>0.000000</td>\n",
       "      <td>Neutral</td>\n",
       "    </tr>\n",
       "    <tr>\n",
       "      <th>8</th>\n",
       "      <td>Please report your earthquake</td>\n",
       "      <td>0.000000</td>\n",
       "      <td>0.000000</td>\n",
       "      <td>Neutral</td>\n",
       "    </tr>\n",
       "    <tr>\n",
       "      <th>9</th>\n",
       "      <td>Second burglary at the store</td>\n",
       "      <td>0.000000</td>\n",
       "      <td>0.000000</td>\n",
       "      <td>Neutral</td>\n",
       "    </tr>\n",
       "    <tr>\n",
       "      <th>10</th>\n",
       "      <td>State regulators approve rate hikes at Eversou...</td>\n",
       "      <td>0.000000</td>\n",
       "      <td>0.000000</td>\n",
       "      <td>Neutral</td>\n",
       "    </tr>\n",
       "    <tr>\n",
       "      <th>11</th>\n",
       "      <td>How long do I need for a visit to the Mystic A...</td>\n",
       "      <td>0.400000</td>\n",
       "      <td>-0.050000</td>\n",
       "      <td>Negative</td>\n",
       "    </tr>\n",
       "    <tr>\n",
       "      <th>12</th>\n",
       "      <td>LGBTQ events/groups?</td>\n",
       "      <td>0.000000</td>\n",
       "      <td>0.000000</td>\n",
       "      <td>Neutral</td>\n",
       "    </tr>\n",
       "    <tr>\n",
       "      <th>13</th>\n",
       "      <td>Group/nonprofit/etc in CT that helps with fili...</td>\n",
       "      <td>0.000000</td>\n",
       "      <td>0.000000</td>\n",
       "      <td>Neutral</td>\n",
       "    </tr>\n",
       "    <tr>\n",
       "      <th>14</th>\n",
       "      <td>Less than 24 hours to back-to-back titles...</td>\n",
       "      <td>0.066667</td>\n",
       "      <td>-0.166667</td>\n",
       "      <td>Negative</td>\n",
       "    </tr>\n",
       "    <tr>\n",
       "      <th>15</th>\n",
       "      <td>Another earthquake?</td>\n",
       "      <td>0.000000</td>\n",
       "      <td>0.000000</td>\n",
       "      <td>Neutral</td>\n",
       "    </tr>\n",
       "    <tr>\n",
       "      <th>16</th>\n",
       "      <td>Seymour’s First Selectman died of a gunshot wo...</td>\n",
       "      <td>0.491667</td>\n",
       "      <td>0.580000</td>\n",
       "      <td>Positive</td>\n",
       "    </tr>\n",
       "    <tr>\n",
       "      <th>17</th>\n",
       "      <td>UCONN DOES IT</td>\n",
       "      <td>0.000000</td>\n",
       "      <td>0.000000</td>\n",
       "      <td>Neutral</td>\n",
       "    </tr>\n",
       "    <tr>\n",
       "      <th>18</th>\n",
       "      <td>Any Indoor Basketball Courts in CT (Fairfield ...</td>\n",
       "      <td>0.000000</td>\n",
       "      <td>0.000000</td>\n",
       "      <td>Neutral</td>\n",
       "    </tr>\n",
       "    <tr>\n",
       "      <th>19</th>\n",
       "      <td>91S Shut down in Enfield?</td>\n",
       "      <td>0.288889</td>\n",
       "      <td>-0.155556</td>\n",
       "      <td>Negative</td>\n",
       "    </tr>\n",
       "    <tr>\n",
       "      <th>20</th>\n",
       "      <td>Westbrook outlets</td>\n",
       "      <td>0.000000</td>\n",
       "      <td>0.000000</td>\n",
       "      <td>Neutral</td>\n",
       "    </tr>\n",
       "    <tr>\n",
       "      <th>21</th>\n",
       "      <td>Affordable Landscaping Business</td>\n",
       "      <td>0.000000</td>\n",
       "      <td>0.000000</td>\n",
       "      <td>Neutral</td>\n",
       "    </tr>\n",
       "    <tr>\n",
       "      <th>22</th>\n",
       "      <td>If you drove to see the eclipse yesterday, how...</td>\n",
       "      <td>0.200000</td>\n",
       "      <td>-0.025000</td>\n",
       "      <td>Negative</td>\n",
       "    </tr>\n",
       "    <tr>\n",
       "      <th>23</th>\n",
       "      <td>Ah, The Sounds Of Spring!</td>\n",
       "      <td>0.000000</td>\n",
       "      <td>0.000000</td>\n",
       "      <td>Neutral</td>\n",
       "    </tr>\n",
       "    <tr>\n",
       "      <th>24</th>\n",
       "      <td>Earthquake?</td>\n",
       "      <td>0.000000</td>\n",
       "      <td>0.000000</td>\n",
       "      <td>Neutral</td>\n",
       "    </tr>\n",
       "    <tr>\n",
       "      <th>25</th>\n",
       "      <td>Looking for art studio space in the Farmington...</td>\n",
       "      <td>0.000000</td>\n",
       "      <td>0.000000</td>\n",
       "      <td>Neutral</td>\n",
       "    </tr>\n",
       "    <tr>\n",
       "      <th>26</th>\n",
       "      <td>Abandoned Mother Dog In CT Reunited With 3 Of ...</td>\n",
       "      <td>0.000000</td>\n",
       "      <td>0.000000</td>\n",
       "      <td>Neutral</td>\n",
       "    </tr>\n",
       "    <tr>\n",
       "      <th>27</th>\n",
       "      <td>California to Hartford - Give me some restaura...</td>\n",
       "      <td>0.000000</td>\n",
       "      <td>0.000000</td>\n",
       "      <td>Neutral</td>\n",
       "    </tr>\n",
       "    <tr>\n",
       "      <th>28</th>\n",
       "      <td>What is the Mansfield Area like?</td>\n",
       "      <td>0.000000</td>\n",
       "      <td>0.000000</td>\n",
       "      <td>Neutral</td>\n",
       "    </tr>\n",
       "    <tr>\n",
       "      <th>29</th>\n",
       "      <td>Left Lane Drivers</td>\n",
       "      <td>0.000000</td>\n",
       "      <td>0.000000</td>\n",
       "      <td>Neutral</td>\n",
       "    </tr>\n",
       "    <tr>\n",
       "      <th>30</th>\n",
       "      <td>Best renting apps/sites for houses?</td>\n",
       "      <td>0.300000</td>\n",
       "      <td>1.000000</td>\n",
       "      <td>Positive</td>\n",
       "    </tr>\n",
       "    <tr>\n",
       "      <th>31</th>\n",
       "      <td>Constellation 6 month for 8.99</td>\n",
       "      <td>0.000000</td>\n",
       "      <td>0.000000</td>\n",
       "      <td>Neutral</td>\n",
       "    </tr>\n",
       "    <tr>\n",
       "      <th>32</th>\n",
       "      <td>Anybody else see the sun get all weird a few m...</td>\n",
       "      <td>0.550000</td>\n",
       "      <td>-0.350000</td>\n",
       "      <td>Negative</td>\n",
       "    </tr>\n",
       "    <tr>\n",
       "      <th>33</th>\n",
       "      <td>Rock walls in the woods?</td>\n",
       "      <td>0.000000</td>\n",
       "      <td>0.000000</td>\n",
       "      <td>Neutral</td>\n",
       "    </tr>\n",
       "    <tr>\n",
       "      <th>34</th>\n",
       "      <td>Daybreak</td>\n",
       "      <td>0.000000</td>\n",
       "      <td>0.000000</td>\n",
       "      <td>Neutral</td>\n",
       "    </tr>\n",
       "    <tr>\n",
       "      <th>35</th>\n",
       "      <td>I’m starting a Pizza Fanzine called PIZZA BEAT...</td>\n",
       "      <td>0.445833</td>\n",
       "      <td>0.171875</td>\n",
       "      <td>Positive</td>\n",
       "    </tr>\n",
       "    <tr>\n",
       "      <th>36</th>\n",
       "      <td>Manchester Organizations In Line For Major Sta...</td>\n",
       "      <td>0.500000</td>\n",
       "      <td>0.062500</td>\n",
       "      <td>Positive</td>\n",
       "    </tr>\n",
       "    <tr>\n",
       "      <th>37</th>\n",
       "      <td>Hidden Hand State contracting board clashes wi...</td>\n",
       "      <td>0.333333</td>\n",
       "      <td>-0.166667</td>\n",
       "      <td>Negative</td>\n",
       "    </tr>\n",
       "    <tr>\n",
       "      <th>38</th>\n",
       "      <td>does anybody know where to buy solar eclipse v...</td>\n",
       "      <td>0.066667</td>\n",
       "      <td>0.000000</td>\n",
       "      <td>Neutral</td>\n",
       "    </tr>\n",
       "    <tr>\n",
       "      <th>39</th>\n",
       "      <td>Major Earthquake hits CT, we shall rebuild.</td>\n",
       "      <td>0.500000</td>\n",
       "      <td>0.062500</td>\n",
       "      <td>Positive</td>\n",
       "    </tr>\n",
       "    <tr>\n",
       "      <th>40</th>\n",
       "      <td>Its a little dim out there.</td>\n",
       "      <td>0.500000</td>\n",
       "      <td>-0.043750</td>\n",
       "      <td>Negative</td>\n",
       "    </tr>\n",
       "    <tr>\n",
       "      <th>41</th>\n",
       "      <td>Dahlias is CT</td>\n",
       "      <td>0.000000</td>\n",
       "      <td>0.000000</td>\n",
       "      <td>Neutral</td>\n",
       "    </tr>\n",
       "    <tr>\n",
       "      <th>42</th>\n",
       "      <td>Constructing a tennis court - recommendations?</td>\n",
       "      <td>0.000000</td>\n",
       "      <td>0.000000</td>\n",
       "      <td>Neutral</td>\n",
       "    </tr>\n",
       "    <tr>\n",
       "      <th>43</th>\n",
       "      <td>Anyone else feel that shaking? I’m in Middleto...</td>\n",
       "      <td>0.000000</td>\n",
       "      <td>0.000000</td>\n",
       "      <td>Neutral</td>\n",
       "    </tr>\n",
       "    <tr>\n",
       "      <th>44</th>\n",
       "      <td>Flight schools?</td>\n",
       "      <td>0.000000</td>\n",
       "      <td>0.000000</td>\n",
       "      <td>Neutral</td>\n",
       "    </tr>\n",
       "    <tr>\n",
       "      <th>45</th>\n",
       "      <td>Anyone need (free!) top soil or pine mulch?</td>\n",
       "      <td>0.650000</td>\n",
       "      <td>0.500000</td>\n",
       "      <td>Positive</td>\n",
       "    </tr>\n",
       "    <tr>\n",
       "      <th>46</th>\n",
       "      <td>Best place to see blooming flowers in West. Co...</td>\n",
       "      <td>0.300000</td>\n",
       "      <td>1.000000</td>\n",
       "      <td>Positive</td>\n",
       "    </tr>\n",
       "    <tr>\n",
       "      <th>47</th>\n",
       "      <td>The Back Page of the NY Post</td>\n",
       "      <td>0.000000</td>\n",
       "      <td>0.000000</td>\n",
       "      <td>Neutral</td>\n",
       "    </tr>\n",
       "    <tr>\n",
       "      <th>48</th>\n",
       "      <td>Plainfield earthquake?</td>\n",
       "      <td>0.000000</td>\n",
       "      <td>0.000000</td>\n",
       "      <td>Neutral</td>\n",
       "    </tr>\n",
       "    <tr>\n",
       "      <th>49</th>\n",
       "      <td>Any fishermen here? Got questions</td>\n",
       "      <td>0.000000</td>\n",
       "      <td>0.000000</td>\n",
       "      <td>Neutral</td>\n",
       "    </tr>\n",
       "  </tbody>\n",
       "</table>\n",
       "</div>"
      ],
      "text/plain": [
       "                                               Titles  Subjectivity  Polarity  \\\n",
       "0   WATERWICK (2024) Trailer - I'm an indie filmma...      0.262626  0.128788   \n",
       "1                                        EARTHQUAKE!!      0.000000  0.000000   \n",
       "2                                 Club for 40+ couple      0.000000  0.000000   \n",
       "3   Exclusive Event Dinner with Chef Chrissy & Jam...      0.000000  0.000000   \n",
       "4   'Where in Connecticut is ABI?' challenge. Thin...      0.000000  0.000000   \n",
       "5               Gample Pavilion Floor - Go Huskies!!!      0.000000  0.000000   \n",
       "6                                         Hello kitty      0.000000  0.000000   \n",
       "7   Want to buy a Connecticut Final Four throwback...      1.000000  0.000000   \n",
       "8                       Please report your earthquake      0.000000  0.000000   \n",
       "9                        Second burglary at the store      0.000000  0.000000   \n",
       "10  State regulators approve rate hikes at Eversou...      0.000000  0.000000   \n",
       "11  How long do I need for a visit to the Mystic A...      0.400000 -0.050000   \n",
       "12                               LGBTQ events/groups?      0.000000  0.000000   \n",
       "13  Group/nonprofit/etc in CT that helps with fili...      0.000000  0.000000   \n",
       "14       Less than 24 hours to back-to-back titles...      0.066667 -0.166667   \n",
       "15                                Another earthquake?      0.000000  0.000000   \n",
       "16  Seymour’s First Selectman died of a gunshot wo...      0.491667  0.580000   \n",
       "17                                      UCONN DOES IT      0.000000  0.000000   \n",
       "18  Any Indoor Basketball Courts in CT (Fairfield ...      0.000000  0.000000   \n",
       "19                          91S Shut down in Enfield?      0.288889 -0.155556   \n",
       "20                                  Westbrook outlets      0.000000  0.000000   \n",
       "21                    Affordable Landscaping Business      0.000000  0.000000   \n",
       "22  If you drove to see the eclipse yesterday, how...      0.200000 -0.025000   \n",
       "23                          Ah, The Sounds Of Spring!      0.000000  0.000000   \n",
       "24                                       Earthquake?       0.000000  0.000000   \n",
       "25  Looking for art studio space in the Farmington...      0.000000  0.000000   \n",
       "26  Abandoned Mother Dog In CT Reunited With 3 Of ...      0.000000  0.000000   \n",
       "27  California to Hartford - Give me some restaura...      0.000000  0.000000   \n",
       "28                  What is the Mansfield Area like?       0.000000  0.000000   \n",
       "29                                  Left Lane Drivers      0.000000  0.000000   \n",
       "30                Best renting apps/sites for houses?      0.300000  1.000000   \n",
       "31                     Constellation 6 month for 8.99      0.000000  0.000000   \n",
       "32  Anybody else see the sun get all weird a few m...      0.550000 -0.350000   \n",
       "33                           Rock walls in the woods?      0.000000  0.000000   \n",
       "34                                          Daybreak       0.000000  0.000000   \n",
       "35  I’m starting a Pizza Fanzine called PIZZA BEAT...      0.445833  0.171875   \n",
       "36  Manchester Organizations In Line For Major Sta...      0.500000  0.062500   \n",
       "37  Hidden Hand State contracting board clashes wi...      0.333333 -0.166667   \n",
       "38  does anybody know where to buy solar eclipse v...      0.066667  0.000000   \n",
       "39        Major Earthquake hits CT, we shall rebuild.      0.500000  0.062500   \n",
       "40                        Its a little dim out there.      0.500000 -0.043750   \n",
       "41                                      Dahlias is CT      0.000000  0.000000   \n",
       "42     Constructing a tennis court - recommendations?      0.000000  0.000000   \n",
       "43  Anyone else feel that shaking? I’m in Middleto...      0.000000  0.000000   \n",
       "44                                    Flight schools?      0.000000  0.000000   \n",
       "45        Anyone need (free!) top soil or pine mulch?      0.650000  0.500000   \n",
       "46  Best place to see blooming flowers in West. Co...      0.300000  1.000000   \n",
       "47                       The Back Page of the NY Post      0.000000  0.000000   \n",
       "48                             Plainfield earthquake?      0.000000  0.000000   \n",
       "49                  Any fishermen here? Got questions      0.000000  0.000000   \n",
       "\n",
       "     Insight  \n",
       "0   Positive  \n",
       "1    Neutral  \n",
       "2    Neutral  \n",
       "3    Neutral  \n",
       "4    Neutral  \n",
       "5    Neutral  \n",
       "6    Neutral  \n",
       "7    Neutral  \n",
       "8    Neutral  \n",
       "9    Neutral  \n",
       "10   Neutral  \n",
       "11  Negative  \n",
       "12   Neutral  \n",
       "13   Neutral  \n",
       "14  Negative  \n",
       "15   Neutral  \n",
       "16  Positive  \n",
       "17   Neutral  \n",
       "18   Neutral  \n",
       "19  Negative  \n",
       "20   Neutral  \n",
       "21   Neutral  \n",
       "22  Negative  \n",
       "23   Neutral  \n",
       "24   Neutral  \n",
       "25   Neutral  \n",
       "26   Neutral  \n",
       "27   Neutral  \n",
       "28   Neutral  \n",
       "29   Neutral  \n",
       "30  Positive  \n",
       "31   Neutral  \n",
       "32  Negative  \n",
       "33   Neutral  \n",
       "34   Neutral  \n",
       "35  Positive  \n",
       "36  Positive  \n",
       "37  Negative  \n",
       "38   Neutral  \n",
       "39  Positive  \n",
       "40  Negative  \n",
       "41   Neutral  \n",
       "42   Neutral  \n",
       "43   Neutral  \n",
       "44   Neutral  \n",
       "45  Positive  \n",
       "46  Positive  \n",
       "47   Neutral  \n",
       "48   Neutral  \n",
       "49   Neutral  "
      ]
     },
     "execution_count": 18,
     "metadata": {},
     "output_type": "execute_result"
    }
   ],
   "source": [
    "def getInsight(score):\n",
    "    if score < 0:\n",
    "        return \"Negative\"\n",
    "    elif score == 0:\n",
    "        return \"Neutral\"\n",
    "    else:\n",
    "        return \"Positive\"\n",
    "    \n",
    "connecticut_df[\"Insight\"] = connecticut_df[\"Polarity\"].apply(getInsight)\n",
    "\n",
    "connecticut_df.head(50)"
   ]
  },
  {
   "cell_type": "code",
   "execution_count": 19,
   "id": "48ada466",
   "metadata": {},
   "outputs": [],
   "source": [
    "import seaborn as sns\n",
    "import warnings\n",
    "from wordcloud import WordCloud, STOPWORDS\n",
    "import matplotlib.pyplot as plt\n",
    "plt.style.use('fivethirtyeight')"
   ]
  },
  {
   "cell_type": "markdown",
   "id": "f46abd22",
   "metadata": {},
   "source": [
    "#### plotting the count of sentiment categories (\"Negative\", \"Neutral\", and \"Positive\") using a bar plot"
   ]
  },
  {
   "cell_type": "code",
   "execution_count": 21,
   "id": "d50052bc",
   "metadata": {},
   "outputs": [
    {
     "data": {
      "image/png": "[encoded data removed]",
      "text/plain": [
       "<Figure size 1000x800 with 1 Axes>"
      ]
     },
     "metadata": {},
     "output_type": "display_data"
    }
   ],
   "source": [
    "#Plot the values count of sentiment\n",
    "plt.title(\"Connecticut Sentiment Score\")\n",
    "plt.xlabel(\"Sentiment\")\n",
    "plt.ylabel(\"Scores\")\n",
    "plt.rcParams[\"figure.figsize\"] = (10,8)\n",
    "connecticut_df[\"Insight\"].value_counts().plot(kind=\"bar\", color=\"#2078B4\")\n",
    "plt.show()"
   ]
  },
  {
   "cell_type": "code",
   "execution_count": null,
   "id": "6006d3b4",
   "metadata": {},
   "outputs": [],
   "source": []
  }
 ],
 "metadata": {
  "kernelspec": {
   "display_name": "Python 3 (ipykernel)",
   "language": "python",
   "name": "python3"
  },
  "language_info": {
   "codemirror_mode": {
    "name": "ipython",
    "version": 3
   },
   "file_extension": ".py",
   "mimetype": "text/x-python",
   "name": "python",
   "nbconvert_exporter": "python",
   "pygments_lexer": "ipython3",
   "version": "3.11.5"
  }
 },
 "nbformat": 4,
 "nbformat_minor": 5
}
