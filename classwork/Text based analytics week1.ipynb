{
 "cells": [
  {
   "cell_type": "code",
   "execution_count": 1,
   "id": "05062cd6",
   "metadata": {},
   "outputs": [
    {
     "name": "stdout",
     "output_type": "stream",
     "text": [
      "Hello\n"
     ]
    }
   ],
   "source": [
    "a='Hello'\n",
    "print(a)"
   ]
  },
  {
   "cell_type": "code",
   "execution_count": 3,
   "id": "fc0613ff",
   "metadata": {},
   "outputs": [
    {
     "name": "stdout",
     "output_type": "stream",
     "text": [
      "e\n"
     ]
    }
   ],
   "source": [
    "a=\"Hello world\"\n",
    "print(a[1])"
   ]
  },
  {
   "cell_type": "code",
   "execution_count": 4,
   "id": "bf5afe81",
   "metadata": {},
   "outputs": [
    {
     "name": "stdout",
     "output_type": "stream",
     "text": [
      "llo\n"
     ]
    }
   ],
   "source": [
    "b = \"Hello, World!\"\n",
    "print(b[2:5])"
   ]
  },
  {
   "cell_type": "code",
   "execution_count": 6,
   "id": "65261eb8",
   "metadata": {},
   "outputs": [
    {
     "name": "stdout",
     "output_type": "stream",
     "text": [
      "Hello World!\n"
     ]
    }
   ],
   "source": [
    "a=\"Hello\"\n",
    "b=\"World!\"\n",
    "c=a+\" \"+b\n",
    "print(c)"
   ]
  },
  {
   "cell_type": "code",
   "execution_count": 20,
   "id": "4d640b80",
   "metadata": {},
   "outputs": [],
   "source": [
    "d=\"hi\"\n",
    "e='1234'"
   ]
  },
  {
   "cell_type": "code",
   "execution_count": 14,
   "id": "2c767d36",
   "metadata": {},
   "outputs": [
    {
     "data": {
      "text/plain": [
       "False"
      ]
     },
     "execution_count": 14,
     "metadata": {},
     "output_type": "execute_result"
    }
   ],
   "source": [
    "c.isalnum()"
   ]
  },
  {
   "cell_type": "code",
   "execution_count": 15,
   "id": "a501cc6f",
   "metadata": {},
   "outputs": [
    {
     "data": {
      "text/plain": [
       "True"
      ]
     },
     "execution_count": 15,
     "metadata": {},
     "output_type": "execute_result"
    }
   ],
   "source": [
    "a.isalpha()"
   ]
  },
  {
   "cell_type": "code",
   "execution_count": 16,
   "id": "089aa0c3",
   "metadata": {},
   "outputs": [
    {
     "data": {
      "text/plain": [
       "False"
      ]
     },
     "execution_count": 16,
     "metadata": {},
     "output_type": "execute_result"
    }
   ],
   "source": [
    "c.isspace()"
   ]
  },
  {
   "cell_type": "code",
   "execution_count": 19,
   "id": "26a17e0c",
   "metadata": {},
   "outputs": [
    {
     "data": {
      "text/plain": [
       "True"
      ]
     },
     "execution_count": 19,
     "metadata": {},
     "output_type": "execute_result"
    }
   ],
   "source": [
    "d.islower()"
   ]
  },
  {
   "cell_type": "code",
   "execution_count": 21,
   "id": "801c4ec9",
   "metadata": {},
   "outputs": [
    {
     "data": {
      "text/plain": [
       "True"
      ]
     },
     "execution_count": 21,
     "metadata": {},
     "output_type": "execute_result"
    }
   ],
   "source": [
    "e.isdigit()"
   ]
  },
  {
   "cell_type": "code",
   "execution_count": 22,
   "id": "ce6af0d4",
   "metadata": {},
   "outputs": [
    {
     "data": {
      "text/plain": [
       "'hello'"
      ]
     },
     "execution_count": 22,
     "metadata": {},
     "output_type": "execute_result"
    }
   ],
   "source": [
    "a.lower()"
   ]
  },
  {
   "cell_type": "code",
   "execution_count": 32,
   "id": "849ec0e9",
   "metadata": {},
   "outputs": [
    {
     "data": {
      "text/plain": [
       "'M Ruchita'"
      ]
     },
     "execution_count": 32,
     "metadata": {},
     "output_type": "execute_result"
    }
   ],
   "source": [
    "q=\" M Ruchita\"\n",
    "q.lstrip()"
   ]
  },
  {
   "cell_type": "code",
   "execution_count": 31,
   "id": "897fc5b0",
   "metadata": {},
   "outputs": [
    {
     "data": {
      "text/plain": [
       "'Ruchita'"
      ]
     },
     "execution_count": 31,
     "metadata": {},
     "output_type": "execute_result"
    }
   ],
   "source": [
    "f=\"Ruchita \"\n",
    "f.rstrip()"
   ]
  },
  {
   "cell_type": "code",
   "execution_count": 50,
   "id": "30e7dd61",
   "metadata": {},
   "outputs": [
    {
     "data": {
      "text/plain": [
       "'Hell'"
      ]
     },
     "execution_count": 50,
     "metadata": {},
     "output_type": "execute_result"
    }
   ],
   "source": [
    "a.strip(\"o\")"
   ]
  },
  {
   "cell_type": "code",
   "execution_count": 26,
   "id": "d8788ba2",
   "metadata": {},
   "outputs": [
    {
     "data": {
      "text/plain": [
       "'HELLO'"
      ]
     },
     "execution_count": 26,
     "metadata": {},
     "output_type": "execute_result"
    }
   ],
   "source": [
    "a.upper()"
   ]
  },
  {
   "cell_type": "code",
   "execution_count": 33,
   "id": "e57abf55",
   "metadata": {},
   "outputs": [
    {
     "data": {
      "text/plain": [
       "'M Ruchita'"
      ]
     },
     "execution_count": 33,
     "metadata": {},
     "output_type": "execute_result"
    }
   ],
   "source": [
    "w=\" M Ruchita \"\n",
    "w.strip()"
   ]
  },
  {
   "cell_type": "code",
   "execution_count": 39,
   "id": "959d77fe",
   "metadata": {},
   "outputs": [
    {
     "data": {
      "text/plain": [
       "True"
      ]
     },
     "execution_count": 39,
     "metadata": {},
     "output_type": "execute_result"
    }
   ],
   "source": [
    "w.endswith(\"Ruchita \")"
   ]
  },
  {
   "cell_type": "code",
   "execution_count": 40,
   "id": "77a78661",
   "metadata": {},
   "outputs": [
    {
     "data": {
      "text/plain": [
       "3"
      ]
     },
     "execution_count": 40,
     "metadata": {},
     "output_type": "execute_result"
    }
   ],
   "source": [
    "w.find(\"Ruchita \")"
   ]
  },
  {
   "cell_type": "code",
   "execution_count": 42,
   "id": "262e3060",
   "metadata": {},
   "outputs": [
    {
     "data": {
      "text/plain": [
       "' M Ruchitha'"
      ]
     },
     "execution_count": 42,
     "metadata": {},
     "output_type": "execute_result"
    }
   ],
   "source": [
    "w.replace(\"Ruchita \",\"Ruchitha\")"
   ]
  },
  {
   "cell_type": "code",
   "execution_count": 43,
   "id": "c3e3ea05",
   "metadata": {},
   "outputs": [
    {
     "data": {
      "text/plain": [
       "True"
      ]
     },
     "execution_count": 43,
     "metadata": {},
     "output_type": "execute_result"
    }
   ],
   "source": [
    "w.startswith(\" M\")"
   ]
  },
  {
   "cell_type": "code",
   "execution_count": 44,
   "id": "39a85861",
   "metadata": {},
   "outputs": [
    {
     "data": {
      "text/plain": [
       "False"
      ]
     },
     "execution_count": 44,
     "metadata": {},
     "output_type": "execute_result"
    }
   ],
   "source": [
    "w.startswith(\"M\")"
   ]
  },
  {
   "cell_type": "code",
   "execution_count": 45,
   "id": "a21853de",
   "metadata": {},
   "outputs": [
    {
     "data": {
      "text/plain": [
       "['peach', 'raspberry', 'strawberry', 'vanilla']"
      ]
     },
     "execution_count": 45,
     "metadata": {},
     "output_type": "execute_result"
    }
   ],
   "source": [
    "str = 'peach raspberry strawberry vanilla'\n",
    "tokens = str.split()\n",
    "tokens"
   ]
  },
  {
   "cell_type": "code",
   "execution_count": 46,
   "id": "4c073af9",
   "metadata": {},
   "outputs": [
    {
     "data": {
      "text/plain": [
       "['1111', 'stratford', 'ave']"
      ]
     },
     "execution_count": 46,
     "metadata": {},
     "output_type": "execute_result"
    }
   ],
   "source": [
    "str1='1111 stratford ave'\n",
    "com=str1.split()\n",
    "com"
   ]
  },
  {
   "cell_type": "code",
   "execution_count": 48,
   "id": "d6e31372",
   "metadata": {},
   "outputs": [
    {
     "data": {
      "text/plain": [
       "['www', 'example', 'com']"
      ]
     },
     "execution_count": 48,
     "metadata": {},
     "output_type": "execute_result"
    }
   ],
   "source": [
    "my_address = 'www.example.com'\n",
    "tokens = my_address.split('.')\n",
    "tokens"
   ]
  },
  {
   "cell_type": "code",
   "execution_count": 51,
   "id": "180a0102",
   "metadata": {},
   "outputs": [
    {
     "data": {
      "text/plain": [
       "['1', '2', '3', '4', '5']"
      ]
     },
     "execution_count": 51,
     "metadata": {},
     "output_type": "execute_result"
    }
   ],
   "source": [
    "str2='1/2/3/4/5'\n",
    "st=str2.split('/')\n",
    "st"
   ]
  },
  {
   "cell_type": "code",
   "execution_count": 53,
   "id": "3dcd64d6",
   "metadata": {},
   "outputs": [
    {
     "data": {
      "text/plain": [
       "['abc', 'abc', 'abc', 'abc', 'abc']"
      ]
     },
     "execution_count": 53,
     "metadata": {},
     "output_type": "execute_result"
    }
   ],
   "source": [
    "import regex as re\n",
    "def tokenize(text):\n",
    "    return re.findall(r'abc', text)\n",
    "x = tokenize(\"abcd 45abc abc% abc.com acbrx .=.abc.=. ab c cba ABC \")\n",
    "x"
   ]
  },
  {
   "cell_type": "markdown",
   "id": "7dc8ec25",
   "metadata": {},
   "source": []
  },
  {
   "cell_type": "code",
   "execution_count": 54,
   "id": "10fcd6cc",
   "metadata": {},
   "outputs": [
    {
     "data": {
      "text/plain": [
       "['gooey', 'moody', 'roody', 'goofy', 'loopy']"
      ]
     },
     "execution_count": 54,
     "metadata": {},
     "output_type": "execute_result"
    }
   ],
   "source": [
    "import regex as re\n",
    "def tokenize(text):\n",
    "    return re.findall(r'.oo.y', text)\n",
    "x = tokenize(\" abcd gooey moody broody goofy gummy mooooudy loopy ooy \")\n",
    "x"
   ]
  },
  {
   "cell_type": "code",
   "execution_count": 55,
   "id": "f9e9f84c",
   "metadata": {},
   "outputs": [
    {
     "data": {
      "text/plain": [
       "['abc.abc.com', 'abc.abc,com']"
      ]
     },
     "execution_count": 55,
     "metadata": {},
     "output_type": "execute_result"
    }
   ],
   "source": [
    "import regex as re\n",
    "def tokenize(text):\n",
    "    return re.findall(r'abc\\.abc.com', text)\n",
    "x = tokenize(\"abc.abc.com abc.abc,com abc,abc.com ABC.abc.com \")\n",
    "x"
   ]
  },
  {
   "cell_type": "code",
   "execution_count": 59,
   "id": "041aedbc",
   "metadata": {},
   "outputs": [
    {
     "name": "stdout",
     "output_type": "stream",
     "text": [
      "['The']\n",
      "[]\n",
      "[]\n"
     ]
    }
   ],
   "source": [
    "import regex as re\n",
    "def tokenize(text):\n",
    "    return re.findall(r'^The', text)\n",
    "x = tokenize(\"Them \")\n",
    "print(x)\n",
    "y= tokenize(\"them\")\n",
    "print(y)\n",
    "z=tokenize(\"they\")\n",
    "print(z)"
   ]
  },
  {
   "cell_type": "code",
   "execution_count": 68,
   "id": "b97ec390",
   "metadata": {},
   "outputs": [
    {
     "name": "stdout",
     "output_type": "stream",
     "text": [
      "['Bye']\n",
      "[]\n"
     ]
    }
   ],
   "source": [
    "import regex as re\n",
    "def tokenize(text):\n",
    "    return re.findall(r'Bye$', text)\n",
    "x = tokenize(\"They said goodBye\")\n",
    "print(x)\n",
    "y= tokenize(\"He said goodBye \")\n",
    "print(y)"
   ]
  },
  {
   "cell_type": "code",
   "execution_count": 66,
   "id": "18c3d2a8",
   "metadata": {},
   "outputs": [
    {
     "name": "stdout",
     "output_type": "stream",
     "text": [
      "['abc', 'xyz', 'xyz']\n"
     ]
    }
   ],
   "source": [
    "import regex as re\n",
    "def tokenize(text):\n",
    "    return re.findall(r'abc|xyz', text)\n",
    "x = tokenize(\"abcd xsdxyz xyz derf\")\n",
    "print(x)"
   ]
  },
  {
   "cell_type": "code",
   "execution_count": 69,
   "id": "165a091a",
   "metadata": {},
   "outputs": [
    {
     "name": "stdout",
     "output_type": "stream",
     "text": [
      "['Homer Simpson', 'Marge Simpson']\n",
      "['Homer', 'Marge']\n"
     ]
    }
   ],
   "source": [
    "import regex as re\n",
    "def tokenize1(text):\n",
    "    return re.findall(r'Homer Simpson|Marge Simpson', text)\n",
    "def tokenize2(text):\n",
    "    return re.findall(r'(Homer|Marge) Simpson', text)\n",
    "x = tokenize1(\"Homer Williams Homer Simpson Marge Simpson\")\n",
    "print(x)\n",
    "x = tokenize2(\"Homer Williams Homer Simpson Marge Simpson\")\n",
    "print(x)"
   ]
  },
  {
   "cell_type": "code",
   "execution_count": null,
   "id": "8b116053",
   "metadata": {},
   "outputs": [],
   "source": []
  }
 ],
 "metadata": {
  "kernelspec": {
   "display_name": "Python 3 (ipykernel)",
   "language": "python",
   "name": "python3"
  },
  "language_info": {
   "codemirror_mode": {
    "name": "ipython",
    "version": 3
   },
   "file_extension": ".py",
   "mimetype": "text/x-python",
   "name": "python",
   "nbconvert_exporter": "python",
   "pygments_lexer": "ipython3",
   "version": "3.11.5"
  }
 },
 "nbformat": 4,
 "nbformat_minor": 5
}
