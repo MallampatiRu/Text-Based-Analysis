{
 "cells": [
  {
   "cell_type": "markdown",
   "id": "6f6788d7",
   "metadata": {},
   "source": [
    "# Strings in python"
   ]
  },
  {
   "cell_type": "code",
   "execution_count": 134,
   "id": "05062cd6",
   "metadata": {},
   "outputs": [
    {
     "name": "stdout",
     "output_type": "stream",
     "text": [
      "Hello\n"
     ]
    }
   ],
   "source": [
    "a='Hello'\n",
    "print(a)"
   ]
  },
  {
   "cell_type": "markdown",
   "id": "b26ee968",
   "metadata": {},
   "source": [
    "### Accessing individual letters"
   ]
  },
  {
   "cell_type": "code",
   "execution_count": 135,
   "id": "fc0613ff",
   "metadata": {},
   "outputs": [
    {
     "name": "stdout",
     "output_type": "stream",
     "text": [
      "e\n"
     ]
    }
   ],
   "source": [
    "a=\"Hello world\"\n",
    "print(a[1])"
   ]
  },
  {
   "cell_type": "code",
   "execution_count": 136,
   "id": "bf5afe81",
   "metadata": {},
   "outputs": [
    {
     "name": "stdout",
     "output_type": "stream",
     "text": [
      "llo\n"
     ]
    }
   ],
   "source": [
    "b = \"Hello, World!\"\n",
    "print(b[2:5])"
   ]
  },
  {
   "cell_type": "markdown",
   "id": "3d48c7f9",
   "metadata": {},
   "source": [
    "### String concatenation"
   ]
  },
  {
   "cell_type": "code",
   "execution_count": 137,
   "id": "65261eb8",
   "metadata": {},
   "outputs": [
    {
     "name": "stdout",
     "output_type": "stream",
     "text": [
      "Hello World!\n"
     ]
    }
   ],
   "source": [
    "#c prints the combination of a and b\n",
    "a=\"Hello\"\n",
    "b=\"World!\"\n",
    "c=a+\" \"+b\n",
    "print(c)"
   ]
  },
  {
   "cell_type": "markdown",
   "id": "c0dce5ce",
   "metadata": {},
   "source": [
    "### String functions"
   ]
  },
  {
   "cell_type": "code",
   "execution_count": 138,
   "id": "9be98710",
   "metadata": {},
   "outputs": [
    {
     "name": "stdout",
     "output_type": "stream",
     "text": [
      "13\n"
     ]
    }
   ],
   "source": [
    "#prints the length of the string\n",
    "a = \"Hello, World!\"\n",
    "print(len(a))"
   ]
  },
  {
   "cell_type": "code",
   "execution_count": 139,
   "id": "1d4c2bb8",
   "metadata": {},
   "outputs": [
    {
     "name": "stdout",
     "output_type": "stream",
     "text": [
      "HELLO, WORLD!\n"
     ]
    }
   ],
   "source": [
    "#prints the string in upper case\n",
    "print(a.upper())"
   ]
  },
  {
   "cell_type": "code",
   "execution_count": 140,
   "id": "019dca76",
   "metadata": {},
   "outputs": [
    {
     "name": "stdout",
     "output_type": "stream",
     "text": [
      "hello, world!\n"
     ]
    }
   ],
   "source": [
    "#prints the string in lower case\n",
    "print(a.lower())"
   ]
  },
  {
   "cell_type": "code",
   "execution_count": 141,
   "id": "4504e230",
   "metadata": {},
   "outputs": [
    {
     "name": "stdout",
     "output_type": "stream",
     "text": [
      "Jello, World!\n"
     ]
    }
   ],
   "source": [
    "#replaces and prints the specified letter with specified letter\n",
    "print(a.replace(\"H\", \"J\"))"
   ]
  },
  {
   "cell_type": "markdown",
   "id": "0ece4271",
   "metadata": {},
   "source": [
    "### String methods"
   ]
  },
  {
   "cell_type": "code",
   "execution_count": 142,
   "id": "4d640b80",
   "metadata": {},
   "outputs": [],
   "source": [
    "a = \"Hello, World!\"\n",
    "b='HELLO'\n",
    "c=\"123\""
   ]
  },
  {
   "cell_type": "code",
   "execution_count": 143,
   "id": "2c767d36",
   "metadata": {},
   "outputs": [
    {
     "data": {
      "text/plain": [
       "False"
      ]
     },
     "execution_count": 143,
     "metadata": {},
     "output_type": "execute_result"
    }
   ],
   "source": [
    "#Returns true if the string contains only alphabetic letters or digits\n",
    "a.isalnum()"
   ]
  },
  {
   "cell_type": "code",
   "execution_count": 144,
   "id": "a501cc6f",
   "metadata": {},
   "outputs": [
    {
     "data": {
      "text/plain": [
       "True"
      ]
     },
     "execution_count": 144,
     "metadata": {},
     "output_type": "execute_result"
    }
   ],
   "source": [
    "#Returns true if the string contains only alphabetic letters\n",
    "b.isalpha()"
   ]
  },
  {
   "cell_type": "code",
   "execution_count": 145,
   "id": "089aa0c3",
   "metadata": {},
   "outputs": [
    {
     "data": {
      "text/plain": [
       "False"
      ]
     },
     "execution_count": 145,
     "metadata": {},
     "output_type": "execute_result"
    }
   ],
   "source": [
    "#Returns true if the string contains only whitespace characters\n",
    "a.isspace()"
   ]
  },
  {
   "cell_type": "code",
   "execution_count": 146,
   "id": "26a17e0c",
   "metadata": {},
   "outputs": [
    {
     "data": {
      "text/plain": [
       "False"
      ]
     },
     "execution_count": 146,
     "metadata": {},
     "output_type": "execute_result"
    }
   ],
   "source": [
    "#Returns true if all of the alphabetic letters in the string are lowercase\n",
    "a.islower()"
   ]
  },
  {
   "cell_type": "code",
   "execution_count": 147,
   "id": "801c4ec9",
   "metadata": {},
   "outputs": [
    {
     "data": {
      "text/plain": [
       "True"
      ]
     },
     "execution_count": 147,
     "metadata": {},
     "output_type": "execute_result"
    }
   ],
   "source": [
    "#Returns true if the string contains only numeric digits\n",
    "c.isdigit()"
   ]
  },
  {
   "cell_type": "code",
   "execution_count": 148,
   "id": "ce6af0d4",
   "metadata": {},
   "outputs": [
    {
     "data": {
      "text/plain": [
       "True"
      ]
     },
     "execution_count": 148,
     "metadata": {},
     "output_type": "execute_result"
    }
   ],
   "source": [
    "#Returns true if all of the letters in the string are uppercase\n",
    "b.isupper()"
   ]
  },
  {
   "cell_type": "markdown",
   "id": "99525139",
   "metadata": {},
   "source": [
    "### String modification methods"
   ]
  },
  {
   "cell_type": "code",
   "execution_count": 149,
   "id": "38bc7f60",
   "metadata": {},
   "outputs": [
    {
     "data": {
      "text/plain": [
       "' m ruchita'"
      ]
     },
     "execution_count": 149,
     "metadata": {},
     "output_type": "execute_result"
    }
   ],
   "source": [
    "#converts the string to lowercase\n",
    "str=\" M Ruchita\"\n",
    "str.lower()"
   ]
  },
  {
   "cell_type": "code",
   "execution_count": 111,
   "id": "849ec0e9",
   "metadata": {},
   "outputs": [
    {
     "data": {
      "text/plain": [
       "'M Ruchita'"
      ]
     },
     "execution_count": 111,
     "metadata": {},
     "output_type": "execute_result"
    }
   ],
   "source": [
    "#Returns a copy of the string with all leading whitespace characters removed\n",
    "str.lstrip()"
   ]
  },
  {
   "cell_type": "code",
   "execution_count": 150,
   "id": "388e6280",
   "metadata": {},
   "outputs": [
    {
     "data": {
      "text/plain": [
       "'Ruchita'"
      ]
     },
     "execution_count": 150,
     "metadata": {},
     "output_type": "execute_result"
    }
   ],
   "source": [
    "#Returns a copy of the string with allinstances of char that appear at the beginning of the string removed.\n",
    "str.lstrip(' M')"
   ]
  },
  {
   "cell_type": "code",
   "execution_count": 151,
   "id": "897fc5b0",
   "metadata": {},
   "outputs": [
    {
     "data": {
      "text/plain": [
       "'Ruchita'"
      ]
     },
     "execution_count": 151,
     "metadata": {},
     "output_type": "execute_result"
    }
   ],
   "source": [
    "#Returns a copy of the string with all trailing whitespace characters removed.\n",
    "str1=\"Ruchita \"\n",
    "str1.rstrip()"
   ]
  },
  {
   "cell_type": "code",
   "execution_count": 152,
   "id": "f9bc67fd",
   "metadata": {},
   "outputs": [
    {
     "data": {
      "text/plain": [
       "'Ruchit'"
      ]
     },
     "execution_count": 152,
     "metadata": {},
     "output_type": "execute_result"
    }
   ],
   "source": [
    "#Returns a copy of the string with allinstances of char that appear at the ending of the string removed.\n",
    "str1.rstrip(\"a \")"
   ]
  },
  {
   "cell_type": "code",
   "execution_count": 153,
   "id": "30e7dd61",
   "metadata": {},
   "outputs": [
    {
     "data": {
      "text/plain": [
       "'M Ruchita'"
      ]
     },
     "execution_count": 153,
     "metadata": {},
     "output_type": "execute_result"
    }
   ],
   "source": [
    "#Returns a copy of string by removing whitespaces at begining and ending\n",
    "str=\" M Ruchita \"\n",
    "str.strip()"
   ]
  },
  {
   "cell_type": "code",
   "execution_count": 154,
   "id": "d8788ba2",
   "metadata": {},
   "outputs": [
    {
     "data": {
      "text/plain": [
       "'hell'"
      ]
     },
     "execution_count": 154,
     "metadata": {},
     "output_type": "execute_result"
    }
   ],
   "source": [
    "#Returns a copy of the string with all instances of char that appear at the beginning and the end of the string removed.\n",
    "a=\"hello\"\n",
    "a.strip(\"o\")"
   ]
  },
  {
   "cell_type": "code",
   "execution_count": 155,
   "id": "e57abf55",
   "metadata": {},
   "outputs": [
    {
     "data": {
      "text/plain": [
       "'HELLO'"
      ]
     },
     "execution_count": 155,
     "metadata": {},
     "output_type": "execute_result"
    }
   ],
   "source": [
    "#converts the string to uppercase\n",
    "a.upper()"
   ]
  },
  {
   "cell_type": "markdown",
   "id": "56dd08f4",
   "metadata": {},
   "source": [
    "### Search and replace string methods"
   ]
  },
  {
   "cell_type": "code",
   "execution_count": 156,
   "id": "959d77fe",
   "metadata": {},
   "outputs": [
    {
     "data": {
      "text/plain": [
       "True"
      ]
     },
     "execution_count": 156,
     "metadata": {},
     "output_type": "execute_result"
    }
   ],
   "source": [
    "#returns true if the string ends with the given sub string\n",
    "str=\"M Ruchita \"\n",
    "str.endswith(\"Ruchita \")"
   ]
  },
  {
   "cell_type": "code",
   "execution_count": 157,
   "id": "77a78661",
   "metadata": {},
   "outputs": [
    {
     "data": {
      "text/plain": [
       "2"
      ]
     },
     "execution_count": 157,
     "metadata": {},
     "output_type": "execute_result"
    }
   ],
   "source": [
    "#returns the position of the given substring \n",
    "str.find(\"Ruchita \")"
   ]
  },
  {
   "cell_type": "code",
   "execution_count": 158,
   "id": "262e3060",
   "metadata": {},
   "outputs": [
    {
     "data": {
      "text/plain": [
       "'M Ruchitha'"
      ]
     },
     "execution_count": 158,
     "metadata": {},
     "output_type": "execute_result"
    }
   ],
   "source": [
    "#returns a copy of the string with all instances of old replaced by new\n",
    "str.replace(\"Ruchita \",\"Ruchitha\")"
   ]
  },
  {
   "cell_type": "code",
   "execution_count": 159,
   "id": "39a85861",
   "metadata": {},
   "outputs": [
    {
     "data": {
      "text/plain": [
       "True"
      ]
     },
     "execution_count": 159,
     "metadata": {},
     "output_type": "execute_result"
    }
   ],
   "source": [
    "#returns true if the string starts with substring.\n",
    "str.startswith(\"M\")"
   ]
  },
  {
   "cell_type": "markdown",
   "id": "c9ebd5ad",
   "metadata": {},
   "source": [
    "### Splitting a string"
   ]
  },
  {
   "cell_type": "code",
   "execution_count": 160,
   "id": "a21853de",
   "metadata": {},
   "outputs": [
    {
     "data": {
      "text/plain": [
       "['peach', 'raspberry', 'strawberry', 'vanilla']"
      ]
     },
     "execution_count": 160,
     "metadata": {},
     "output_type": "execute_result"
    }
   ],
   "source": [
    "#split()-returns a list containing the words in the string\n",
    "string = 'peach raspberry strawberry vanilla'\n",
    "tokens = string.split()\n",
    "tokens"
   ]
  },
  {
   "cell_type": "code",
   "execution_count": 161,
   "id": "4c073af9",
   "metadata": {},
   "outputs": [
    {
     "data": {
      "text/plain": [
       "['1111', 'stratford', 'ave']"
      ]
     },
     "execution_count": 161,
     "metadata": {},
     "output_type": "execute_result"
    }
   ],
   "source": [
    "#returns a list by splits the string into substrings when space is present\n",
    "string1='1111 stratford ave'\n",
    "Apt=string1.split()\n",
    "Apt"
   ]
  },
  {
   "cell_type": "code",
   "execution_count": 163,
   "id": "d6e31372",
   "metadata": {},
   "outputs": [
    {
     "data": {
      "text/plain": [
       "['www', 'example', 'com']"
      ]
     },
     "execution_count": 163,
     "metadata": {},
     "output_type": "execute_result"
    }
   ],
   "source": [
    "#returns a list by splits the string into substrings when \".\" is present in a string\n",
    "my_address = 'www.example.com'\n",
    "tokens = my_address.split('.')\n",
    "tokens"
   ]
  },
  {
   "cell_type": "code",
   "execution_count": 164,
   "id": "180a0102",
   "metadata": {},
   "outputs": [
    {
     "data": {
      "text/plain": [
       "['1', '2', '3', '4', '5']"
      ]
     },
     "execution_count": 164,
     "metadata": {},
     "output_type": "execute_result"
    }
   ],
   "source": [
    "#returns a list by splits the string into substrings when \"/\" is present in a string\n",
    "num='1/2/3/4/5'\n",
    "ans=num.split('/')\n",
    "ans"
   ]
  },
  {
   "cell_type": "markdown",
   "id": "d62a3015",
   "metadata": {},
   "source": [
    "# Regular expressions"
   ]
  },
  {
   "cell_type": "code",
   "execution_count": 165,
   "id": "3dcd64d6",
   "metadata": {},
   "outputs": [
    {
     "data": {
      "text/plain": [
       "['abc', 'abc', 'abc', 'abc', 'abc']"
      ]
     },
     "execution_count": 165,
     "metadata": {},
     "output_type": "execute_result"
    }
   ],
   "source": [
    "#Tokenizes input text by finding all non-overlapping occurrences of 'abc'\n",
    "import regex as re\n",
    "def tokenize(text):\n",
    "    return re.findall(r'abc', text)\n",
    "x = tokenize(\"abcd 45abc abc% abc.com acbrx .=.abc.=. ab c cba ABC \")\n",
    "x"
   ]
  },
  {
   "cell_type": "code",
   "execution_count": 166,
   "id": "10fcd6cc",
   "metadata": {},
   "outputs": [
    {
     "data": {
      "text/plain": [
       "['gooey', 'moody', 'roody', 'goofy', 'loopy']"
      ]
     },
     "execution_count": 166,
     "metadata": {},
     "output_type": "execute_result"
    }
   ],
   "source": [
    "# Returns a list of substrings matching the pattern: character, 'oo', any character, 'y'.\n",
    "import regex as re\n",
    "def tokenize(text):\n",
    "    return re.findall(r'.oo.y', text)\n",
    "x = tokenize(\" abcd gooey moody broody goofy gummy mooooudy loopy ooy \")\n",
    "x"
   ]
  },
  {
   "cell_type": "code",
   "execution_count": 167,
   "id": "f9e9f84c",
   "metadata": {},
   "outputs": [
    {
     "data": {
      "text/plain": [
       "['abc.abc.com', 'abc.abc,com']"
      ]
     },
     "execution_count": 167,
     "metadata": {},
     "output_type": "execute_result"
    }
   ],
   "source": [
    "# Finds occurrences of 'abc.abc.com' in text, sensitive to exact match including the dot.\n",
    "import regex as re\n",
    "def tokenize(text):\n",
    "    return re.findall(r'abc\\.abc.com', text)\n",
    "x = tokenize(\"abc.abc.com abc.abc,com abc,abc.com ABC.abc.com \")\n",
    "x"
   ]
  },
  {
   "cell_type": "code",
   "execution_count": 168,
   "id": "041aedbc",
   "metadata": {},
   "outputs": [
    {
     "name": "stdout",
     "output_type": "stream",
     "text": [
      "['The']\n",
      "[]\n",
      "[]\n"
     ]
    }
   ],
   "source": [
    "# program to find occurrences of a word at the beginning of a string \n",
    "import regex as re\n",
    "def tokenize(text):\n",
    "    return re.findall(r'^The', text)\n",
    "x = tokenize(\"Them \")\n",
    "print(x)\n",
    "y= tokenize(\"them\")\n",
    "print(y)\n",
    "z=tokenize(\"they\")\n",
    "print(z)"
   ]
  },
  {
   "cell_type": "code",
   "execution_count": 169,
   "id": "b97ec390",
   "metadata": {},
   "outputs": [
    {
     "name": "stdout",
     "output_type": "stream",
     "text": [
      "['Bye']\n",
      "[]\n"
     ]
    }
   ],
   "source": [
    "# program to find occurrences of a word at the ending of a string \n",
    "import regex as re\n",
    "def tokenize(text):\n",
    "    return re.findall(r'Bye$', text)\n",
    "x = tokenize(\"They said goodBye\")\n",
    "print(x)\n",
    "y= tokenize(\"He said goodBye \")\n",
    "print(y)"
   ]
  },
  {
   "cell_type": "code",
   "execution_count": 170,
   "id": "18c3d2a8",
   "metadata": {},
   "outputs": [
    {
     "name": "stdout",
     "output_type": "stream",
     "text": [
      "['abc', 'xyz', 'xyz']\n"
     ]
    }
   ],
   "source": [
    "# program to find occurrences of abc or xyz in the given string \n",
    "import regex as re\n",
    "def tokenize(text):\n",
    "    return re.findall(r'abc|xyz', text)\n",
    "x = tokenize(\"abcd xsdxyz xyz derf\")\n",
    "print(x)"
   ]
  },
  {
   "cell_type": "code",
   "execution_count": 171,
   "id": "165a091a",
   "metadata": {},
   "outputs": [
    {
     "name": "stdout",
     "output_type": "stream",
     "text": [
      "['Homer Simpson', 'Marge Simpson']\n",
      "['Homer', 'Marge']\n"
     ]
    }
   ],
   "source": [
    "# program to find occurrence of a Homer Simpson|Marge Simpson in the given string \n",
    "import regex as re\n",
    "def tokenize1(text):\n",
    "    return re.findall(r'Homer Simpson|Marge Simpson', text)\n",
    "def tokenize2(text):\n",
    "    return re.findall(r'(Homer|Marge) Simpson', text)\n",
    "x = tokenize1(\"Homer Williams Homer Simpson Marge Simpson\")\n",
    "print(x)\n",
    "x = tokenize2(\"Homer Williams Homer Simpson Marge Simpson\")\n",
    "print(x)"
   ]
  }
 ],
 "metadata": {
  "kernelspec": {
   "display_name": "Python 3 (ipykernel)",
   "language": "python",
   "name": "python3"
  },
  "language_info": {
   "codemirror_mode": {
    "name": "ipython",
    "version": 3
   },
   "file_extension": ".py",
   "mimetype": "text/x-python",
   "name": "python",
   "nbconvert_exporter": "python",
   "pygments_lexer": "ipython3",
   "version": "3.11.5"
  }
 },
 "nbformat": 4,
 "nbformat_minor": 5
}
