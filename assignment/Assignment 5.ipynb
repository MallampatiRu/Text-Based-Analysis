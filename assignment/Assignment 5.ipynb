{
 "cells": [
  {
   "cell_type": "markdown",
   "id": "06651a4e",
   "metadata": {},
   "source": [
    "# Assignment 5"
   ]
  },
  {
   "cell_type": "markdown",
   "id": "438ccea9",
   "metadata": {},
   "source": [
    "# Sentiment Analysis"
   ]
  },
  {
   "cell_type": "markdown",
   "id": "9a28f30a",
   "metadata": {},
   "source": [
    "#### Imports the pandas library and then reads the CSV file"
   ]
  },
  {
   "cell_type": "code",
   "execution_count": 10,
   "id": "2b0716a7",
   "metadata": {},
   "outputs": [
    {
     "data": {
      "text/html": [
       "<div>\n",
       "<style scoped>\n",
       "    .dataframe tbody tr th:only-of-type {\n",
       "        vertical-align: middle;\n",
       "    }\n",
       "\n",
       "    .dataframe tbody tr th {\n",
       "        vertical-align: top;\n",
       "    }\n",
       "\n",
       "    .dataframe thead th {\n",
       "        text-align: right;\n",
       "    }\n",
       "</style>\n",
       "<table border=\"1\" class=\"dataframe\">\n",
       "  <thead>\n",
       "    <tr style=\"text-align: right;\">\n",
       "      <th></th>\n",
       "      <th>published_date</th>\n",
       "      <th>published_platform</th>\n",
       "      <th>rating</th>\n",
       "      <th>type</th>\n",
       "      <th>text</th>\n",
       "      <th>title</th>\n",
       "      <th>helpful_votes</th>\n",
       "    </tr>\n",
       "  </thead>\n",
       "  <tbody>\n",
       "    <tr>\n",
       "      <th>1587</th>\n",
       "      <td>2020-03-10T09:21:40-04:00</td>\n",
       "      <td>Desktop</td>\n",
       "      <td>5</td>\n",
       "      <td>review</td>\n",
       "      <td>Singapore Airlines is by far the best in my op...</td>\n",
       "      <td>Top class airline</td>\n",
       "      <td>1</td>\n",
       "    </tr>\n",
       "    <tr>\n",
       "      <th>5041</th>\n",
       "      <td>2019-06-20T04:59:35-04:00</td>\n",
       "      <td>Desktop</td>\n",
       "      <td>5</td>\n",
       "      <td>review</td>\n",
       "      <td>About 10 hours non-stop from Manchester to Hou...</td>\n",
       "      <td>Great Flight</td>\n",
       "      <td>1</td>\n",
       "    </tr>\n",
       "    <tr>\n",
       "      <th>6874</th>\n",
       "      <td>2019-02-11T05:25:09-05:00</td>\n",
       "      <td>Desktop</td>\n",
       "      <td>5</td>\n",
       "      <td>review</td>\n",
       "      <td>Faultless airline. We travelled Business and g...</td>\n",
       "      <td>Super Airline Singapore Airlines</td>\n",
       "      <td>1</td>\n",
       "    </tr>\n",
       "    <tr>\n",
       "      <th>9555</th>\n",
       "      <td>2018-09-12T15:00:54-04:00</td>\n",
       "      <td>Mobile</td>\n",
       "      <td>5</td>\n",
       "      <td>review</td>\n",
       "      <td>Had been a while since my last SQ flight. The ...</td>\n",
       "      <td>I am home</td>\n",
       "      <td>0</td>\n",
       "    </tr>\n",
       "    <tr>\n",
       "      <th>9201</th>\n",
       "      <td>2018-09-18T00:55:54-04:00</td>\n",
       "      <td>Desktop</td>\n",
       "      <td>5</td>\n",
       "      <td>review</td>\n",
       "      <td>As always we were greeted by very friendly sta...</td>\n",
       "      <td>Great Airline</td>\n",
       "      <td>1</td>\n",
       "    </tr>\n",
       "    <tr>\n",
       "      <th>8068</th>\n",
       "      <td>2018-12-01T11:21:31-05:00</td>\n",
       "      <td>Desktop</td>\n",
       "      <td>5</td>\n",
       "      <td>review</td>\n",
       "      <td>Not the first time we have done this trip but ...</td>\n",
       "      <td>Something to Singer's about</td>\n",
       "      <td>1</td>\n",
       "    </tr>\n",
       "    <tr>\n",
       "      <th>5296</th>\n",
       "      <td>2019-05-30T15:04:32-04:00</td>\n",
       "      <td>Desktop</td>\n",
       "      <td>5</td>\n",
       "      <td>review</td>\n",
       "      <td>I travel a lot with different airlines but Sin...</td>\n",
       "      <td>The best airline</td>\n",
       "      <td>0</td>\n",
       "    </tr>\n",
       "    <tr>\n",
       "      <th>7260</th>\n",
       "      <td>2019-01-10T16:20:15-05:00</td>\n",
       "      <td>Mobile</td>\n",
       "      <td>5</td>\n",
       "      <td>review</td>\n",
       "      <td>Recently flew Singapore airlines on a trip to ...</td>\n",
       "      <td>Highly recommended for long flights</td>\n",
       "      <td>0</td>\n",
       "    </tr>\n",
       "    <tr>\n",
       "      <th>2701</th>\n",
       "      <td>2019-12-07T04:34:02-05:00</td>\n",
       "      <td>Desktop</td>\n",
       "      <td>3</td>\n",
       "      <td>review</td>\n",
       "      <td>Flea on onan old A380. And found it very cramp...</td>\n",
       "      <td>Holidays</td>\n",
       "      <td>3</td>\n",
       "    </tr>\n",
       "    <tr>\n",
       "      <th>6323</th>\n",
       "      <td>2019-03-16T07:18:42-04:00</td>\n",
       "      <td>Desktop</td>\n",
       "      <td>3</td>\n",
       "      <td>review</td>\n",
       "      <td>I was on the premium economy from Japan to Sin...</td>\n",
       "      <td>Just OK</td>\n",
       "      <td>0</td>\n",
       "    </tr>\n",
       "  </tbody>\n",
       "</table>\n",
       "</div>"
      ],
      "text/plain": [
       "                 published_date published_platform  rating    type  \\\n",
       "1587  2020-03-10T09:21:40-04:00            Desktop       5  review   \n",
       "5041  2019-06-20T04:59:35-04:00            Desktop       5  review   \n",
       "6874  2019-02-11T05:25:09-05:00            Desktop       5  review   \n",
       "9555  2018-09-12T15:00:54-04:00             Mobile       5  review   \n",
       "9201  2018-09-18T00:55:54-04:00            Desktop       5  review   \n",
       "8068  2018-12-01T11:21:31-05:00            Desktop       5  review   \n",
       "5296  2019-05-30T15:04:32-04:00            Desktop       5  review   \n",
       "7260  2019-01-10T16:20:15-05:00             Mobile       5  review   \n",
       "2701  2019-12-07T04:34:02-05:00            Desktop       3  review   \n",
       "6323  2019-03-16T07:18:42-04:00            Desktop       3  review   \n",
       "\n",
       "                                                   text  \\\n",
       "1587  Singapore Airlines is by far the best in my op...   \n",
       "5041  About 10 hours non-stop from Manchester to Hou...   \n",
       "6874  Faultless airline. We travelled Business and g...   \n",
       "9555  Had been a while since my last SQ flight. The ...   \n",
       "9201  As always we were greeted by very friendly sta...   \n",
       "8068  Not the first time we have done this trip but ...   \n",
       "5296  I travel a lot with different airlines but Sin...   \n",
       "7260  Recently flew Singapore airlines on a trip to ...   \n",
       "2701  Flea on onan old A380. And found it very cramp...   \n",
       "6323  I was on the premium economy from Japan to Sin...   \n",
       "\n",
       "                                    title  helpful_votes  \n",
       "1587                    Top class airline              1  \n",
       "5041                         Great Flight              1  \n",
       "6874     Super Airline Singapore Airlines              1  \n",
       "9555                            I am home              0  \n",
       "9201                        Great Airline              1  \n",
       "8068          Something to Singer's about              1  \n",
       "5296                     The best airline              0  \n",
       "7260  Highly recommended for long flights              0  \n",
       "2701                             Holidays              3  \n",
       "6323                              Just OK              0  "
      ]
     },
     "execution_count": 10,
     "metadata": {},
     "output_type": "execute_result"
    }
   ],
   "source": [
    "import pandas as pd \n",
    "df = pd.read_csv(\"C:\\\\Users\\\\ruchitha\\\\Downloads\\\\singapore_airlines_reviews.csv\")\n",
    "df.sample(10)\n"
   ]
  },
  {
   "cell_type": "markdown",
   "id": "9067f1ef",
   "metadata": {},
   "source": [
    "#### Using NLTK to work with the Opinion Lexicon, which is a list of positive and negative words commonly used in sentiment analysis."
   ]
  },
  {
   "cell_type": "code",
   "execution_count": 5,
   "id": "e6ab134a",
   "metadata": {},
   "outputs": [
    {
     "name": "stderr",
     "output_type": "stream",
     "text": [
      "[nltk_data] Downloading package opinion_lexicon to\n",
      "[nltk_data]     C:\\Users\\ruchitha\\AppData\\Roaming\\nltk_data...\n"
     ]
    },
    {
     "name": "stdout",
     "output_type": "stream",
     "text": [
      "Total number of words in opinion lexicon 6789\n",
      "Examples of positive words in opinion lexicon ['a+', 'abound', 'abounds', 'abundance', 'abundant', 'accessable', 'accessible', 'acclaim', 'acclaimed', 'acclamation']\n",
      "Examples of negative words in opinion lexicon ['2-faced', '2-faces', 'abnormal', 'abolish', 'abominable', 'abominably', 'abominate', 'abomination', 'abort', 'aborted']\n"
     ]
    },
    {
     "name": "stderr",
     "output_type": "stream",
     "text": [
      "[nltk_data]   Unzipping corpora\\opinion_lexicon.zip.\n"
     ]
    }
   ],
   "source": [
    "from sklearn import preprocessing\n",
    "import nltk\n",
    "nltk.download('opinion_lexicon')\n",
    "from nltk.corpus import opinion_lexicon\n",
    "from nltk.tokenize import word_tokenize\n",
    "\n",
    "print('Total number of words in opinion lexicon', len(opinion_lexicon.words()))\n",
    "print('Examples of positive words in opinion lexicon',\n",
    "      opinion_lexicon.positive()[:10])\n",
    "print('Examples of negative words in opinion lexicon',\n",
    "      opinion_lexicon.negative()[:10])\n"
   ]
  },
  {
   "cell_type": "markdown",
   "id": "de25953f",
   "metadata": {},
   "source": [
    "#### Creating a dictionary word_dict to use for scoring review text based on the words in the Opinion Lexicon"
   ]
  },
  {
   "cell_type": "code",
   "execution_count": 6,
   "id": "ab9e74ee",
   "metadata": {},
   "outputs": [
    {
     "name": "stderr",
     "output_type": "stream",
     "text": [
      "[nltk_data] Downloading package punkt to\n",
      "[nltk_data]     C:\\Users\\ruchitha\\AppData\\Roaming\\nltk_data...\n",
      "[nltk_data]   Unzipping tokenizers\\punkt.zip.\n"
     ]
    }
   ],
   "source": [
    "# Let's create a dictionary which we can use for scoring our review text\n",
    "nltk.download('punkt')\n",
    "pos_score = 1\n",
    "neg_score = -1\n",
    "word_dict = {}\n",
    " \n",
    "# Adding the positive words to the dictionary\n",
    "for word in opinion_lexicon.positive():\n",
    "        word_dict[word] = pos_score\n",
    "      \n",
    "# Adding the negative words to the dictionary\n",
    "for word in opinion_lexicon.negative():\n",
    "        word_dict[word] = neg_score\n"
   ]
  },
  {
   "cell_type": "markdown",
   "id": "6da1b5c8",
   "metadata": {},
   "source": [
    "#### Function calculates the sentiment score by summing up the sentiment scores of individual words in the input text"
   ]
  },
  {
   "cell_type": "code",
   "execution_count": 7,
   "id": "9cd61588",
   "metadata": {},
   "outputs": [],
   "source": [
    "def bing_liu_score(text):\n",
    "    sentiment_score = 0\n",
    "    bag_of_words = word_tokenize(text.lower())\n",
    "    for word in bag_of_words:\n",
    "        if word in word_dict:\n",
    "            sentiment_score += word_dict[word]\n",
    "    return sentiment_score"
   ]
  },
  {
   "cell_type": "markdown",
   "id": "baa64489",
   "metadata": {},
   "source": [
    "# Calculating the Bing_Liu_Score"
   ]
  },
  {
   "cell_type": "code",
   "execution_count": 11,
   "id": "92fd65ee",
   "metadata": {},
   "outputs": [],
   "source": [
    "# Fill missing values in 'text' column with 'no review'\n",
    "df['text'].fillna('no review', inplace=True)\n",
    "\n",
    "# Apply bing_liu_score function to each text in 'text' column and store results in 'Bing_Liu_Score' column\n",
    "df['Bing_Liu_Score'] = df['text'].apply(bing_liu_score)\n"
   ]
  },
  {
   "cell_type": "markdown",
   "id": "c0e66309",
   "metadata": {},
   "source": [
    "#### Print the first 10 rows of DataFrame, including the  rating, text, and the corresponding Bing Liu sentiment score for each review"
   ]
  },
  {
   "cell_type": "code",
   "execution_count": 12,
   "id": "ec1e268d",
   "metadata": {},
   "outputs": [
    {
     "data": {
      "text/html": [
       "<div>\n",
       "<style scoped>\n",
       "    .dataframe tbody tr th:only-of-type {\n",
       "        vertical-align: middle;\n",
       "    }\n",
       "\n",
       "    .dataframe tbody tr th {\n",
       "        vertical-align: top;\n",
       "    }\n",
       "\n",
       "    .dataframe thead th {\n",
       "        text-align: right;\n",
       "    }\n",
       "</style>\n",
       "<table border=\"1\" class=\"dataframe\">\n",
       "  <thead>\n",
       "    <tr style=\"text-align: right;\">\n",
       "      <th></th>\n",
       "      <th>rating</th>\n",
       "      <th>text</th>\n",
       "      <th>Bing_Liu_Score</th>\n",
       "    </tr>\n",
       "  </thead>\n",
       "  <tbody>\n",
       "    <tr>\n",
       "      <th>0</th>\n",
       "      <td>3</td>\n",
       "      <td>We used this airline to go from Singapore to L...</td>\n",
       "      <td>5</td>\n",
       "    </tr>\n",
       "    <tr>\n",
       "      <th>1</th>\n",
       "      <td>5</td>\n",
       "      <td>The service on Singapore Airlines Suites Class...</td>\n",
       "      <td>20</td>\n",
       "    </tr>\n",
       "    <tr>\n",
       "      <th>2</th>\n",
       "      <td>1</td>\n",
       "      <td>Booked, paid and received email confirmation f...</td>\n",
       "      <td>-1</td>\n",
       "    </tr>\n",
       "    <tr>\n",
       "      <th>3</th>\n",
       "      <td>5</td>\n",
       "      <td>Best airline in the world, seats, food, servic...</td>\n",
       "      <td>4</td>\n",
       "    </tr>\n",
       "    <tr>\n",
       "      <th>4</th>\n",
       "      <td>2</td>\n",
       "      <td>Premium Economy Seating on Singapore Airlines ...</td>\n",
       "      <td>-1</td>\n",
       "    </tr>\n",
       "    <tr>\n",
       "      <th>5</th>\n",
       "      <td>1</td>\n",
       "      <td>We booked our flights a full 9 months in advan...</td>\n",
       "      <td>2</td>\n",
       "    </tr>\n",
       "    <tr>\n",
       "      <th>6</th>\n",
       "      <td>5</td>\n",
       "      <td>This was a fascinating experience. As I sat in...</td>\n",
       "      <td>4</td>\n",
       "    </tr>\n",
       "    <tr>\n",
       "      <th>7</th>\n",
       "      <td>1</td>\n",
       "      <td>Very bad expeirence for flight check in at bai...</td>\n",
       "      <td>-2</td>\n",
       "    </tr>\n",
       "    <tr>\n",
       "      <th>8</th>\n",
       "      <td>1</td>\n",
       "      <td>Respected Faculty, I am Bincy, writing this  t...</td>\n",
       "      <td>0</td>\n",
       "    </tr>\n",
       "    <tr>\n",
       "      <th>9</th>\n",
       "      <td>1</td>\n",
       "      <td>I would rate Singapore airlines the worse I ha...</td>\n",
       "      <td>-1</td>\n",
       "    </tr>\n",
       "  </tbody>\n",
       "</table>\n",
       "</div>"
      ],
      "text/plain": [
       "   rating                                               text  Bing_Liu_Score\n",
       "0       3  We used this airline to go from Singapore to L...               5\n",
       "1       5  The service on Singapore Airlines Suites Class...              20\n",
       "2       1  Booked, paid and received email confirmation f...              -1\n",
       "3       5  Best airline in the world, seats, food, servic...               4\n",
       "4       2  Premium Economy Seating on Singapore Airlines ...              -1\n",
       "5       1  We booked our flights a full 9 months in advan...               2\n",
       "6       5  This was a fascinating experience. As I sat in...               4\n",
       "7       1  Very bad expeirence for flight check in at bai...              -2\n",
       "8       1  Respected Faculty, I am Bincy, writing this  t...               0\n",
       "9       1  I would rate Singapore airlines the worse I ha...              -1"
      ]
     },
     "execution_count": 12,
     "metadata": {},
     "output_type": "execute_result"
    }
   ],
   "source": [
    "df[['rating',\"text\", 'Bing_Liu_Score']].head(10)\n"
   ]
  },
  {
   "cell_type": "markdown",
   "id": "dd5eb218",
   "metadata": {},
   "source": [
    "#### Groups the dataframe df by the 'rating' column and calculates the mean of the 'Bing_Liu_Score'"
   ]
  },
  {
   "cell_type": "code",
   "execution_count": 13,
   "id": "77e41bba",
   "metadata": {},
   "outputs": [
    {
     "data": {
      "text/html": [
       "<div>\n",
       "<style scoped>\n",
       "    .dataframe tbody tr th:only-of-type {\n",
       "        vertical-align: middle;\n",
       "    }\n",
       "\n",
       "    .dataframe tbody tr th {\n",
       "        vertical-align: top;\n",
       "    }\n",
       "\n",
       "    .dataframe thead th {\n",
       "        text-align: right;\n",
       "    }\n",
       "</style>\n",
       "<table border=\"1\" class=\"dataframe\">\n",
       "  <thead>\n",
       "    <tr style=\"text-align: right;\">\n",
       "      <th></th>\n",
       "      <th>Bing_Liu_Score</th>\n",
       "    </tr>\n",
       "    <tr>\n",
       "      <th>rating</th>\n",
       "      <th></th>\n",
       "    </tr>\n",
       "  </thead>\n",
       "  <tbody>\n",
       "    <tr>\n",
       "      <th>1</th>\n",
       "      <td>-1.854305</td>\n",
       "    </tr>\n",
       "    <tr>\n",
       "      <th>2</th>\n",
       "      <td>-0.440147</td>\n",
       "    </tr>\n",
       "    <tr>\n",
       "      <th>3</th>\n",
       "      <td>1.272547</td>\n",
       "    </tr>\n",
       "    <tr>\n",
       "      <th>4</th>\n",
       "      <td>3.770208</td>\n",
       "    </tr>\n",
       "    <tr>\n",
       "      <th>5</th>\n",
       "      <td>4.912058</td>\n",
       "    </tr>\n",
       "  </tbody>\n",
       "</table>\n",
       "</div>"
      ],
      "text/plain": [
       "        Bing_Liu_Score\n",
       "rating                \n",
       "1            -1.854305\n",
       "2            -0.440147\n",
       "3             1.272547\n",
       "4             3.770208\n",
       "5             4.912058"
      ]
     },
     "execution_count": 13,
     "metadata": {},
     "output_type": "execute_result"
    }
   ],
   "source": [
    "df.groupby('rating').agg({'Bing_Liu_Score':'mean'})\n"
   ]
  },
  {
   "cell_type": "code",
   "execution_count": null,
   "id": "8255c3a1",
   "metadata": {},
   "outputs": [],
   "source": []
  }
 ],
 "metadata": {
  "kernelspec": {
   "display_name": "Python 3 (ipykernel)",
   "language": "python",
   "name": "python3"
  },
  "language_info": {
   "codemirror_mode": {
    "name": "ipython",
    "version": 3
   },
   "file_extension": ".py",
   "mimetype": "text/x-python",
   "name": "python",
   "nbconvert_exporter": "python",
   "pygments_lexer": "ipython3",
   "version": "3.11.5"
  }
 },
 "nbformat": 4,
 "nbformat_minor": 5
}
