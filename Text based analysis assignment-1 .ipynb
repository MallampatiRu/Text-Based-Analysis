{
 "cells": [
  {
   "cell_type": "markdown",
   "id": "f13d8b75",
   "metadata": {},
   "source": [
    "# String operations"
   ]
  },
  {
   "cell_type": "markdown",
   "id": "da01dfc3",
   "metadata": {},
   "source": [
    "capitalize() method is used to upper case the first letter in the sentence"
   ]
  },
  {
   "cell_type": "code",
   "execution_count": 57,
   "id": "14cc8f49",
   "metadata": {},
   "outputs": [
    {
     "data": {
      "text/plain": [
       "'Welcome to text based analysis!'"
      ]
     },
     "execution_count": 57,
     "metadata": {},
     "output_type": "execute_result"
    }
   ],
   "source": [
    "text= \"welcome to text based analysis!\"\n",
    "text.capitalize()"
   ]
  },
  {
   "cell_type": "markdown",
   "id": "93beb008",
   "metadata": {},
   "source": [
    "count() method returns the number of times the value appear in the string"
   ]
  },
  {
   "cell_type": "code",
   "execution_count": 58,
   "id": "f456af59",
   "metadata": {},
   "outputs": [
    {
     "data": {
      "text/plain": [
       "4"
      ]
     },
     "execution_count": 58,
     "metadata": {},
     "output_type": "execute_result"
    }
   ],
   "source": [
    "name= \"Mallampati Ruchita\"\n",
    "name.count(\"a\")"
   ]
  },
  {
   "cell_type": "markdown",
   "id": "ecec908f",
   "metadata": {},
   "source": [
    "find() method searches the string for a value and returns its position"
   ]
  },
  {
   "cell_type": "code",
   "execution_count": 59,
   "id": "80192de5",
   "metadata": {},
   "outputs": [
    {
     "data": {
      "text/plain": [
       "7"
      ]
     },
     "execution_count": 59,
     "metadata": {},
     "output_type": "execute_result"
    }
   ],
   "source": [
    "university=\"Sacred Heart University\"\n",
    "university.find(\"Heart\")"
   ]
  },
  {
   "cell_type": "markdown",
   "id": "892a0878",
   "metadata": {},
   "source": [
    "expandtabs() methods expands the tab size of the string"
   ]
  },
  {
   "cell_type": "code",
   "execution_count": 60,
   "id": "d52f9d51",
   "metadata": {},
   "outputs": [
    {
     "data": {
      "text/plain": [
       "'TBA string  operations'"
      ]
     },
     "execution_count": 60,
     "metadata": {},
     "output_type": "execute_result"
    }
   ],
   "source": [
    "text=\"TBA\\tstring\\toperations\"\n",
    "text.expandtabs(2)"
   ]
  },
  {
   "cell_type": "markdown",
   "id": "ee2af670",
   "metadata": {},
   "source": [
    "isalnum() method returns true if all characters in the string are alphanumeric"
   ]
  },
  {
   "cell_type": "code",
   "execution_count": 61,
   "id": "962cf6ab",
   "metadata": {},
   "outputs": [
    {
     "data": {
      "text/plain": [
       "True"
      ]
     },
     "execution_count": 61,
     "metadata": {},
     "output_type": "execute_result"
    }
   ],
   "source": [
    "string=\"Stratford06615\"\n",
    "string.isalnum()"
   ]
  },
  {
   "cell_type": "markdown",
   "id": "a6db025f",
   "metadata": {},
   "source": [
    "isdigit() method returns true if all the characters in the text are digits"
   ]
  },
  {
   "cell_type": "code",
   "execution_count": 62,
   "id": "f63c946b",
   "metadata": {},
   "outputs": [
    {
     "data": {
      "text/plain": [
       "True"
      ]
     },
     "execution_count": 62,
     "metadata": {},
     "output_type": "execute_result"
    }
   ],
   "source": [
    "number=\"20241204\"\n",
    "number.isdigit()"
   ]
  },
  {
   "cell_type": "markdown",
   "id": "991ee446",
   "metadata": {},
   "source": [
    "isprintable() method Check if all the characters in the text are printable"
   ]
  },
  {
   "cell_type": "code",
   "execution_count": 63,
   "id": "313a3b3a",
   "metadata": {},
   "outputs": [
    {
     "data": {
      "text/plain": [
       "True"
      ]
     },
     "execution_count": 63,
     "metadata": {},
     "output_type": "execute_result"
    }
   ],
   "source": [
    "words=\"Hello, how are you?@! \"\n",
    "words.isprintable()"
   ]
  },
  {
   "cell_type": "markdown",
   "id": "b02f3867",
   "metadata": {},
   "source": [
    "title() method converts the first character of each word to uppercase"
   ]
  },
  {
   "cell_type": "code",
   "execution_count": 64,
   "id": "d9e19e18",
   "metadata": {},
   "outputs": [
    {
     "data": {
      "text/plain": [
       "'Practcial Statistics'"
      ]
     },
     "execution_count": 64,
     "metadata": {},
     "output_type": "execute_result"
    }
   ],
   "source": [
    "book=\"practcial statistics\"\n",
    "book.title()"
   ]
  },
  {
   "cell_type": "markdown",
   "id": "3a421984",
   "metadata": {},
   "source": [
    "casefold() method is used to lower case the string"
   ]
  },
  {
   "cell_type": "code",
   "execution_count": 65,
   "id": "e111ff61",
   "metadata": {},
   "outputs": [
    {
     "data": {
      "text/plain": [
       "'i like to go to sacred heart university'"
      ]
     },
     "execution_count": 65,
     "metadata": {},
     "output_type": "execute_result"
    }
   ],
   "source": [
    "text= \"I like to go to Sacred Heart University\"\n",
    "text.casefold()"
   ]
  },
  {
   "cell_type": "markdown",
   "id": "88d62dae",
   "metadata": {},
   "source": [
    "isascii() method returns true if the string contains ascii characters"
   ]
  },
  {
   "cell_type": "code",
   "execution_count": 66,
   "id": "8ad7bcf4",
   "metadata": {},
   "outputs": [
    {
     "data": {
      "text/plain": [
       "True"
      ]
     },
     "execution_count": 66,
     "metadata": {},
     "output_type": "execute_result"
    }
   ],
   "source": [
    "Laptop=\"Asus-inteli5-8Gen\"\n",
    "Laptop.isascii()"
   ]
  },
  {
   "cell_type": "markdown",
   "id": "11ef5af6",
   "metadata": {},
   "source": [
    "join() method is used to join all items in a tupple to a string"
   ]
  },
  {
   "cell_type": "code",
   "execution_count": 67,
   "id": "fa04c851",
   "metadata": {},
   "outputs": [
    {
     "data": {
      "text/plain": [
       "'100 200 300 400'"
      ]
     },
     "execution_count": 67,
     "metadata": {},
     "output_type": "execute_result"
    }
   ],
   "source": [
    "Strings=(\"100\",\"200\",\"300\",\"400\")\n",
    "\" \".join(Strings)"
   ]
  },
  {
   "cell_type": "markdown",
   "id": "bc42a849",
   "metadata": {},
   "source": [
    "# Regular expressions"
   ]
  },
  {
   "cell_type": "markdown",
   "id": "bf24ec23",
   "metadata": {},
   "source": [
    "### Regex1"
   ]
  },
  {
   "cell_type": "markdown",
   "id": "539fa2a1",
   "metadata": {},
   "source": [
    "Program to extract for phone numbers in the given text using a specific pattern which printouts the phone number found."
   ]
  },
  {
   "cell_type": "code",
   "execution_count": 68,
   "id": "c0539c00",
   "metadata": {},
   "outputs": [
    {
     "name": "stdout",
     "output_type": "stream",
     "text": [
      "numbers found are:\n",
      "123.455.6789\n"
     ]
    }
   ],
   "source": [
    "import re\n",
    "text = \"Got hurt in a pinch, call Finch 123.455.6789\"\n",
    "pattern = r'\\b\\d{3}[-.]\\d{3}[-.]\\d{4}\\b'\n",
    "search = re.findall(pattern, text)\n",
    "print(\"numbers found are:\")\n",
    "for search in search:\n",
    "    print(search)"
   ]
  },
  {
   "cell_type": "markdown",
   "id": "00da1220",
   "metadata": {},
   "source": [
    "### Regex 2"
   ]
  },
  {
   "cell_type": "markdown",
   "id": "77e1884f",
   "metadata": {},
   "source": [
    "This program extracts all numerical digits from the given text and prints them out as a list."
   ]
  },
  {
   "cell_type": "code",
   "execution_count": 69,
   "id": "f42ce175",
   "metadata": {},
   "outputs": [
    {
     "name": "stdout",
     "output_type": "stream",
     "text": [
      "['48', '6']\n"
     ]
    }
   ],
   "source": [
    "import re\n",
    "text = 'Who doesnt know Ellie age is around 48 with height 6 feet'\n",
    "pattern = '\\d+'\n",
    "result = re.findall(pattern, text) \n",
    "print(result)"
   ]
  },
  {
   "cell_type": "markdown",
   "id": "53fc1662",
   "metadata": {},
   "source": [
    "### Regex3"
   ]
  },
  {
   "cell_type": "markdown",
   "id": "ff335be5",
   "metadata": {},
   "source": [
    "This program splits the given text when it encounters one or more digits and prints the substrings as a list"
   ]
  },
  {
   "cell_type": "code",
   "execution_count": 70,
   "id": "204e09a8",
   "metadata": {},
   "outputs": [
    {
     "name": "stdout",
     "output_type": "stream",
     "text": [
      "['Who doesnt know Ellie age is around ', ' with height ', ' feet']\n"
     ]
    }
   ],
   "source": [
    "import re\n",
    "text=\"Who doesnt know Ellie age is around 45 with height 6 feet\"\n",
    "pattern = '\\d+'\n",
    "result = re.split(pattern, text) \n",
    "print(result)"
   ]
  },
  {
   "cell_type": "markdown",
   "id": "d1735852",
   "metadata": {},
   "source": [
    "### Regex4"
   ]
  },
  {
   "cell_type": "markdown",
   "id": "339d0419",
   "metadata": {},
   "source": [
    "This program provides a password strength validation for the given password"
   ]
  },
  {
   "cell_type": "code",
   "execution_count": 71,
   "id": "d9cefc52",
   "metadata": {},
   "outputs": [
    {
     "name": "stdout",
     "output_type": "stream",
     "text": [
      "Strong Password!\n"
     ]
    }
   ],
   "source": [
    "import re\n",
    "Password = \"Qwerty@09438!\"\n",
    "pattern = r'(?=.*[a-zA-Z])(?=.*[0-9])(?=.*[!@#$%^&*])[a-zA-Z0-9!@#$%^&*]{8,}'\n",
    "result = re.search(pattern, Password)\n",
    "if result:\n",
    "    print(\"Strong Password!\")\n",
    "else:\n",
    "    print(\"Invalid Password!\")"
   ]
  },
  {
   "cell_type": "markdown",
   "id": "0fc0a8d3",
   "metadata": {},
   "source": [
    "### Regex5"
   ]
  },
  {
   "cell_type": "markdown",
   "id": "d997040b",
   "metadata": {},
   "source": [
    "This program is to find all words starting with # in the given text."
   ]
  },
  {
   "cell_type": "code",
   "execution_count": 2,
   "id": "8667386e",
   "metadata": {},
   "outputs": [
    {
     "name": "stdout",
     "output_type": "stream",
     "text": [
      "Found result:\n",
      "#at\n",
      "#office\n",
      "#11AM\n",
      "#3rd\n"
     ]
    }
   ],
   "source": [
    "import re\n",
    "text = \"Appointment reminder #at #office at #11AM. This is #3rd time to book an appointment\"\n",
    "pattern = r'#\\w+'\n",
    "result = re.findall(pattern, text)\n",
    "print(\"Found result:\")\n",
    "for results in result:\n",
    "    print(results)"
   ]
  },
  {
   "cell_type": "code",
   "execution_count": null,
   "id": "313502b1",
   "metadata": {},
   "outputs": [],
   "source": []
  }
 ],
 "metadata": {
  "kernelspec": {
   "display_name": "Python 3 (ipykernel)",
   "language": "python",
   "name": "python3"
  },
  "language_info": {
   "codemirror_mode": {
    "name": "ipython",
    "version": 3
   },
   "file_extension": ".py",
   "mimetype": "text/x-python",
   "name": "python",
   "nbconvert_exporter": "python",
   "pygments_lexer": "ipython3",
   "version": "3.11.5"
  }
 },
 "nbformat": 4,
 "nbformat_minor": 5
}
